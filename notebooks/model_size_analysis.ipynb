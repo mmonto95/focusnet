{
 "cells": [
  {
   "cell_type": "code",
   "execution_count": 1,
   "metadata": {
    "collapsed": true,
    "pycharm": {
     "name": "#%%\n"
    }
   },
   "outputs": [],
   "source": [
    "import pandas as pd\n",
    "import numpy as np\n",
    "import plotly.express as px\n",
    "from tensorflow.keras.models import load_model\n",
    "from tensorflow.keras.utils import load_img\n",
    "\n",
    "from helpers import Rotate90Randomly, Fourier2D"
   ]
  },
  {
   "cell_type": "code",
   "execution_count": 2,
   "outputs": [],
   "source": [
    "model = load_model(\n",
    "    '../models/unal_mm_abs_resized_256_e500_ce450_lr0.001_d0.1_bs64_dr0.2_cp_100_x4',\n",
    "    custom_objects={'Rotate90Randomly': Rotate90Randomly, 'Fourier2D': Fourier2D}\n",
    ")"
   ],
   "metadata": {
    "collapsed": false,
    "pycharm": {
     "name": "#%%\n"
    }
   }
  },
  {
   "cell_type": "code",
   "execution_count": 3,
   "outputs": [
    {
     "data": {
      "text/plain": "array([[[46, 48, 45, ..., 24, 30, 19],\n        [47, 45, 46, ..., 24, 22, 24],\n        [48, 53, 53, ..., 23, 27, 27],\n        ...,\n        [61, 54, 47, ..., 23, 22, 18],\n        [54, 55, 49, ..., 28, 23, 27],\n        [47, 53, 57, ..., 24, 29, 27]]], dtype=uint8)"
     },
     "execution_count": 3,
     "metadata": {},
     "output_type": "execute_result"
    }
   ],
   "source": [
    "np.array([np.array(load_img('../dataset_unal/Hologramas/Ob1z1H1.png', color_mode='grayscale'))])"
   ],
   "metadata": {
    "collapsed": false,
    "pycharm": {
     "name": "#%%\n"
    }
   }
  },
  {
   "cell_type": "code",
   "execution_count": 4,
   "outputs": [
    {
     "name": "stdout",
     "output_type": "stream",
     "text": [
      "1/1 [==============================] - 0s 266ms/step\n",
      "1/1 [==============================] - 0s 19ms/step\n",
      "1/1 [==============================] - 0s 18ms/step\n",
      "1/1 [==============================] - 0s 20ms/step\n",
      "1/1 [==============================] - 0s 21ms/step\n",
      "1/1 [==============================] - 0s 20ms/step\n",
      "1/1 [==============================] - 0s 20ms/step\n",
      "1/1 [==============================] - 0s 19ms/step\n",
      "50 ms ± 635 µs per loop (mean ± std. dev. of 7 runs, 1 loop each)\n"
     ]
    }
   ],
   "source": [
    "%timeit model.predict(np.array([np.array(load_img('../dataset_unal/Hologramas/Ob1z1H1.png', color_mode='grayscale'))]))"
   ],
   "metadata": {
    "collapsed": false,
    "pycharm": {
     "name": "#%%\n"
    }
   }
  },
  {
   "cell_type": "code",
   "execution_count": 2,
   "outputs": [],
   "source": [
    "images = [\n",
    "    'Ob1z1H1.png',\n",
    "    'Ob1z1H2.png',\n",
    "    'Ob1z1H3.png',\n",
    "    'Ob1z1H4.png',\n",
    "    'Ob1z1H5.png',\n",
    "    'Ob1z1H6.png',\n",
    "    'Ob1z1H7.png',\n",
    "    'Ob1z1H8.png',\n",
    "    'Ob1z1H9.png',\n",
    "    'Ob1z1H10.png',\n",
    "    'Ob1z1H11.png',\n",
    "    'Ob1z1H12.png',\n",
    "    'Ob1z2H1.png',\n",
    "    'Ob1z2H2.png',\n",
    "    'Ob1z2H3.png',\n",
    "    'Ob1z2H4.png',\n",
    "    'Ob1z3H10.png',\n",
    "    'Ob1z4H5.png',\n",
    "    'Ob1z4H10.png',\n",
    "    'Ob1z5H6.png',\n",
    "    'Ob1z6H1.png',\n",
    "    'Ob1z10H2.png',\n",
    "    'Ob1z10H7.png',\n",
    "    'Ob1z10H12.png',\n",
    "    'Ob1z20H8.png',\n",
    "    'Ob1z20H12.png',\n",
    "    'Ob2z17H3.png',\n",
    "    'Ob2z17H8.png',\n",
    "    'Ob3z25H3.png',\n",
    "    'Ob3z25H11.png',\n",
    "    'Ob3z26H5.png',\n",
    "    'Ob3z26H10.png',\n",
    "    'Ob5z4H12.png',\n",
    "    'Ob5z5H2.png',\n",
    "    'Ob5z5H9.png',\n",
    "    'Ob7z7H9.png',\n",
    "    'Ob7z6H4.png',\n",
    "    'Ob7z5H8.png',\n",
    "    'Ob7z19H11.png',\n",
    "    'Ob7z20H5.png',\n",
    "    'Ob7z20H9.png',\n",
    "    'Ob8z30H6.png',\n",
    "    'Ob8z31H5.png',\n",
    "    'Ob8z31H9.png',\n",
    "    'Ob9z1H2.png',\n",
    "    'Ob9z1H6.png',\n",
    "    'Ob9z25H9.png',\n",
    "    'Ob9z26H3.png',\n",
    "    'Ob9z26H11.png',\n",
    "    'Ob9z27H5.png',\n",
    "]"
   ],
   "metadata": {
    "collapsed": false,
    "pycharm": {
     "name": "#%%\n"
    }
   }
  },
  {
   "cell_type": "code",
   "execution_count": 3,
   "outputs": [],
   "source": [
    "image_arrays = np.array([\n",
    "    np.array(load_img(f'../dataset_unal/Hologramas/{image}', color_mode='grayscale'))\n",
    "    for image in images\n",
    "])"
   ],
   "metadata": {
    "collapsed": false,
    "pycharm": {
     "name": "#%%\n"
    }
   }
  },
  {
   "cell_type": "code",
   "execution_count": null,
   "outputs": [],
   "source": [
    "times = %timeit -o model.predict(image_arrays)"
   ],
   "metadata": {
    "collapsed": false,
    "pycharm": {
     "name": "#%%\n"
    }
   }
  },
  {
   "cell_type": "code",
   "execution_count": 11,
   "outputs": [
    {
     "data": {
      "text/plain": "(0.3573517974285713, 0.005296776783893491)"
     },
     "execution_count": 11,
     "metadata": {},
     "output_type": "execute_result"
    }
   ],
   "source": [
    "times.average, times.stdev"
   ],
   "metadata": {
    "collapsed": false,
    "pycharm": {
     "name": "#%%\n"
    }
   }
  },
  {
   "cell_type": "code",
   "execution_count": 29,
   "outputs": [
    {
     "name": "stdout",
     "output_type": "stream",
     "text": [
      "CPU times: user 1 µs, sys: 1 µs, total: 2 µs\n",
      "Wall time: 2.86 µs\n",
      "1/1 [==============================] - 0s 28ms/step\n"
     ]
    },
    {
     "data": {
      "text/plain": "array([[0.93080336]], dtype=float32)"
     },
     "execution_count": 29,
     "metadata": {},
     "output_type": "execute_result"
    }
   ],
   "source": [
    "%time\n",
    "model.predict(image_arrays[0:1])"
   ],
   "metadata": {
    "collapsed": false,
    "pycharm": {
     "name": "#%%\n"
    }
   }
  },
  {
   "cell_type": "code",
   "execution_count": 4,
   "outputs": [],
   "source": [
    "from time import perf_counter"
   ],
   "metadata": {
    "collapsed": false,
    "pycharm": {
     "name": "#%%\n"
    }
   }
  },
  {
   "cell_type": "code",
   "execution_count": 8,
   "outputs": [
    {
     "name": "stdout",
     "output_type": "stream",
     "text": [
      "1/1 [==============================] - 0s 21ms/step\n",
      "0.0683941249999993\n",
      "2/2 [==============================] - 0s 178ms/step\n",
      "0.42565508399999885\n"
     ]
    }
   ],
   "source": [
    "t0 = perf_counter()\n",
    "model.predict(image_arrays[0:1])\n",
    "t1 = perf_counter()\n",
    "print(t1 - t0)\n",
    "t0 = perf_counter()\n",
    "model.predict(image_arrays[0:51])\n",
    "t1 = perf_counter()\n",
    "print(t1 - t0)"
   ],
   "metadata": {
    "collapsed": false,
    "pycharm": {
     "name": "#%%\n"
    }
   }
  },
  {
   "cell_type": "code",
   "execution_count": 8,
   "outputs": [],
   "source": [
    "model = load_model(\n",
    "    '../models/unal_2headed_extra_layer_log_abs_e150_ce120_lr0.0005_d0.1_bs64_dr0.05_cp_30_x2',\n",
    "    custom_objects={'Rotate90Randomly': Rotate90Randomly, 'Fourier2D': Fourier2D}\n",
    ")"
   ],
   "metadata": {
    "collapsed": false,
    "pycharm": {
     "name": "#%%\n"
    }
   }
  },
  {
   "cell_type": "code",
   "execution_count": 10,
   "outputs": [
    {
     "name": "stdout",
     "output_type": "stream",
     "text": [
      "1/1 [==============================] - 0s 330ms/step\n",
      "0.3489587500000013\n",
      "10/10 [==============================] - 4s 406ms/step\n",
      "4.062345541999999\n"
     ]
    }
   ],
   "source": [
    "t0 = perf_counter()\n",
    "model.predict(image_arrays[0:1])\n",
    "t1 = perf_counter()\n",
    "print(t1 - t0)\n",
    "t0 = perf_counter()\n",
    "model.predict(image_arrays[0:51], batch_size=5)\n",
    "t1 = perf_counter()\n",
    "print(t1 - t0)"
   ],
   "metadata": {
    "collapsed": false,
    "pycharm": {
     "name": "#%%\n"
    }
   }
  },
  {
   "cell_type": "code",
   "execution_count": 9,
   "outputs": [],
   "source": [
    "model_dirs = [\n",
    "    # 'unal_2headed_extra_layer_log_abs_e150_ce120_lr0.0005_d0.1_bs64_dr0.05_cp_30_x2',\n",
    "    'unal_mm_abs_resized_96_e500_ce450_lr0.001_d0.1_bs64_dr0.2_cp_100_x1',\n",
    "    'unal_mm_abs_resized_96_e500_ce450_lr0.001_d0.1_bs64_dr0.2_cp_100_x4',\n",
    "    # 'unal_mm_abs_resized_128_e150_ce120_lr0.0005_d0.1_bs64_dr0.05_cp_20_x4',\n",
    "    # 'unal_mm_abs_resized_256_e60_ce50_lr0.0005_d0.1_bs64_dr0.05_cp_10_x4',\n",
    "    'unal_mm_abs_resized_256_e500_ce450_lr0.001_d0.1_bs64_dr0.2_cp_100_x4',\n",
    "    # 'unal_mm_abs_resized_256_e500_ce450_lr0.001_d0.1_bs64_dr0.05_cp_100_x4',\n",
    "    # 'unal_mm_abs_resized_e150_ce120_lr0.0005_d0.1_bs64_dr0.05_cp_20_x4',\n",
    "    'unal_mm_abs_resized_512_e500_ce450_lr0.001_d0.1_bs64_dr0.3_cp_100_x8',\n",
    "    # 'unal_mm_abs_e500_ce450_lr0.001_d0.1_bs64_dr0.3_cp_100_x4',\n",
    "    'unal_mm_abs_resized_512_e500_ce450_lr0.001_d0.1_bs64_dr0.2_cp_100_x4',\n",
    "]"
   ],
   "metadata": {
    "collapsed": false,
    "pycharm": {
     "name": "#%%\n"
    }
   }
  },
  {
   "cell_type": "code",
   "execution_count": 10,
   "outputs": [
    {
     "data": {
      "text/plain": "10011793"
     },
     "execution_count": 10,
     "metadata": {},
     "output_type": "execute_result"
    }
   ],
   "source": [
    "model.count_params()"
   ],
   "metadata": {
    "collapsed": false,
    "pycharm": {
     "name": "#%%\n"
    }
   }
  },
  {
   "cell_type": "code",
   "execution_count": 11,
   "outputs": [],
   "source": [
    "df_aux = pd.read_csv('../hist/unal_mm_abs_resized_128_e150_ce120_lr0.0005_d0.1_bs64_dr0.05_cp_20_x4.csv')"
   ],
   "metadata": {
    "collapsed": false,
    "pycharm": {
     "name": "#%%\n"
    }
   }
  },
  {
   "cell_type": "code",
   "execution_count": 12,
   "outputs": [
    {
     "data": {
      "text/plain": "(0.1421535909175872, 0.112806923687458)"
     },
     "execution_count": 12,
     "metadata": {},
     "output_type": "execute_result"
    }
   ],
   "source": [
    "df_aux.loc[df_aux['val_mae'].idxmin(), 'val_mae'], df_aux.loc[df_aux['val_mae'].idxmin(), 'mae']"
   ],
   "metadata": {
    "collapsed": false,
    "pycharm": {
     "name": "#%%\n"
    }
   }
  },
  {
   "cell_type": "code",
   "execution_count": 13,
   "outputs": [],
   "source": [
    "import os"
   ],
   "metadata": {
    "collapsed": false,
    "pycharm": {
     "name": "#%%\n"
    }
   }
  },
  {
   "cell_type": "code",
   "execution_count": 15,
   "outputs": [],
   "source": [
    "val_holos = pd.read_csv('../dataset_unal/val_holos.csv')"
   ],
   "metadata": {
    "collapsed": false,
    "pycharm": {
     "name": "#%%\n"
    }
   }
  },
  {
   "cell_type": "code",
   "execution_count": 16,
   "outputs": [
    {
     "data": {
      "text/plain": "                  0\n0       Ob8z3H2.png\n1      Ob8z12H4.png\n2      Ob5z16H1.png\n3       Ob1z9H2.png\n4      Ob6z15H4.png\n..              ...\n703    Ob9z24H2.png\n704   Ob3z28H10.png\n705  Ob10z17H10.png\n706   Ob10z25H6.png\n707  Ob10z13H10.png\n\n[708 rows x 1 columns]",
      "text/html": "<div>\n<style scoped>\n    .dataframe tbody tr th:only-of-type {\n        vertical-align: middle;\n    }\n\n    .dataframe tbody tr th {\n        vertical-align: top;\n    }\n\n    .dataframe thead th {\n        text-align: right;\n    }\n</style>\n<table border=\"1\" class=\"dataframe\">\n  <thead>\n    <tr style=\"text-align: right;\">\n      <th></th>\n      <th>0</th>\n    </tr>\n  </thead>\n  <tbody>\n    <tr>\n      <th>0</th>\n      <td>Ob8z3H2.png</td>\n    </tr>\n    <tr>\n      <th>1</th>\n      <td>Ob8z12H4.png</td>\n    </tr>\n    <tr>\n      <th>2</th>\n      <td>Ob5z16H1.png</td>\n    </tr>\n    <tr>\n      <th>3</th>\n      <td>Ob1z9H2.png</td>\n    </tr>\n    <tr>\n      <th>4</th>\n      <td>Ob6z15H4.png</td>\n    </tr>\n    <tr>\n      <th>...</th>\n      <td>...</td>\n    </tr>\n    <tr>\n      <th>703</th>\n      <td>Ob9z24H2.png</td>\n    </tr>\n    <tr>\n      <th>704</th>\n      <td>Ob3z28H10.png</td>\n    </tr>\n    <tr>\n      <th>705</th>\n      <td>Ob10z17H10.png</td>\n    </tr>\n    <tr>\n      <th>706</th>\n      <td>Ob10z25H6.png</td>\n    </tr>\n    <tr>\n      <th>707</th>\n      <td>Ob10z13H10.png</td>\n    </tr>\n  </tbody>\n</table>\n<p>708 rows × 1 columns</p>\n</div>"
     },
     "execution_count": 16,
     "metadata": {},
     "output_type": "execute_result"
    }
   ],
   "source": [
    "val_holos"
   ],
   "metadata": {
    "collapsed": false,
    "pycharm": {
     "name": "#%%\n"
    }
   }
  },
  {
   "cell_type": "code",
   "execution_count": 17,
   "outputs": [],
   "source": [
    "train_holos = [h for h in os.listdir('../dataset_unal/Hologramas') if h.endswith('.png') and h not in val_holos]"
   ],
   "metadata": {
    "collapsed": false,
    "pycharm": {
     "name": "#%%\n"
    }
   }
  },
  {
   "cell_type": "code",
   "execution_count": 18,
   "outputs": [
    {
     "data": {
      "text/plain": "['Ob3z6H5.png',\n 'Ob6z27H7.png',\n 'Ob7z27H7.png',\n 'Ob2z4H2.png',\n 'Ob1z28H12.png',\n 'Ob10z20H2.png',\n 'Ob8z16H3.png',\n 'Ob9z16H3.png',\n 'Ob1z22H6.png',\n 'Ob7z2H9.png',\n 'Ob4z15H7.png',\n 'Ob7z29H8.png',\n 'Ob8z1H5.png',\n 'Ob9z3H2.png',\n 'Ob1z5H2.png',\n 'Ob5z15H7.png',\n 'Ob6z29H8.png',\n 'Ob2z10H6.png',\n 'Ob1z3H12.png',\n 'Ob2z19H12.png',\n 'Ob10z5H9.png',\n 'Ob3z10H6.png',\n 'Ob4z3H9.png',\n 'Ob10z13H11.png',\n 'Ob6z25H5.png',\n 'Ob3z4H7.png',\n 'Ob5z4H11.png',\n 'Ob4z4H11.png',\n 'Ob3z29H11.png',\n 'Ob7z25H5.png',\n 'Ob8z14H1.png',\n 'Ob3z29H2.png',\n 'Ob10z25H10.png',\n 'Ob10z9H4.png',\n 'Ob8z21H8.png',\n 'Ob10z17H9.png',\n 'Ob9z21H8.png',\n 'Ob1z20H4.png',\n 'Ob9z14H1.png',\n 'Ob8z3H7.png',\n 'Ob4z17H5.png',\n 'Ob5z17H5.png',\n 'Ob2z12H4.png',\n 'Ob10z19H6.png',\n 'Ob3z12H4.png',\n 'Ob6z30H9.png',\n 'Ob7z23H3.png',\n 'Ob9z9H9.png',\n 'Ob5z11H12.png',\n 'Ob7z30H9.png',\n 'Ob10z29H10.png',\n 'Ob6z23H3.png',\n 'Ob3z2H1.png',\n 'Ob1z26H2.png',\n 'Ob9z12H7.png',\n 'Ob3z25H11.png',\n 'Ob4z8H11.png',\n 'Ob8z12H7.png',\n 'Ob4z17H10.png',\n 'Ob4z9H2.png',\n 'Ob5z8H11.png',\n 'Ob10z24H6.png',\n 'Ob5z11H3.png',\n 'Ob1z1H6.png',\n 'Ob6z18H5.png',\n 'Ob7z26H10.png',\n 'Ob9z7H6.png',\n 'Ob7z18H5.png',\n 'Ob8z5H1.png',\n 'Ob4z11H3.png',\n 'Ob6z20H12.png',\n 'Ob3z14H2.png',\n 'Ob8z29H1.png',\n 'Ob8z11H11.png',\n 'Ob10z1H11.png',\n 'Ob9z29H1.png',\n 'Ob7z8H2.png',\n 'Ob2z14H2.png',\n 'Ob9z21H12.png',\n 'Ob7z21H1.png',\n 'Ob7z14H8.png',\n 'Ob4z28H7.png',\n 'Ob2z2H4.png',\n 'Ob6z14H8.png',\n 'Ob5z28H7.png',\n 'Ob7z10H11.png',\n 'Ob6z21H1.png',\n 'Ob8z27H10.png',\n 'Ob1z24H12.png',\n 'Ob9z10H5.png',\n 'Ob1z11H9.png',\n 'Ob5z9H7.png',\n 'Ob6z6H8.png',\n 'Ob10z26H4.png',\n 'Ob8z10H5.png',\n 'Ob9z5H4.png',\n 'Ob5z26H8.png',\n 'Ob1z3H4.png',\n 'Ob5z13H1.png',\n 'Ob2z15H12.png',\n 'Ob4z13H1.png',\n 'Ob8z7H3.png',\n 'Ob4z26H8.png',\n 'Ob4z21H11.png',\n 'Ob3z23H9.png',\n 'Ob6z8H7.png',\n 'Ob3z13H10.png',\n 'Ob2z23H9.png',\n 'Ob5z7H8.png',\n 'Ob3z30H3.png',\n 'Ob5z7H9.png',\n 'Ob2z16H1.png',\n 'Ob2z23H8.png',\n 'Ob3z13H11.png',\n 'Ob3z30H2.png',\n 'Ob3z23H8.png',\n 'Ob3z16H1.png',\n 'Ob4z21H10.png',\n 'Ob6z8H6.png',\n 'Ob4z26H9.png',\n 'Ob8z7H2.png',\n 'Ob9z5H5.png',\n 'Ob1z3H5.png',\n 'Ob5z26H9.png',\n 'Ob5z27H12.png',\n 'Ob6z6H9.png',\n 'Ob10z26H5.png',\n 'Ob8z10H4.png',\n 'Ob6z16H12.png',\n 'Ob5z9H6.png',\n 'Ob1z24H1.png',\n 'Ob1z11H8.png',\n 'Ob9z10H4.png',\n 'Ob8z27H11.png',\n 'Ob7z10H10.png',\n 'Ob6z14H9.png',\n 'Ob5z28H6.png',\n 'Ob7z14H9.png',\n 'Ob4z28H6.png',\n 'Ob2z2H5.png',\n 'Ob10z1H10.png',\n 'Ob8z11H10.png',\n 'Ob1z12H12.png',\n 'Ob2z14H3.png',\n 'Ob7z8H3.png',\n 'Ob3z14H3.png',\n 'Ob4z11H2.png',\n 'Ob7z18H4.png',\n 'Ob9z17H12.png',\n 'Ob6z18H4.png',\n 'Ob1z1H7.png',\n 'Ob5z11H2.png',\n 'Ob9z7H7.png',\n 'Ob7z26H11.png',\n 'Ob8z12H6.png',\n 'Ob10z24H7.png',\n 'Ob5z8H10.png',\n 'Ob4z9H3.png',\n 'Ob4z17H11.png',\n 'Ob9z12H6.png',\n 'Ob1z26H3.png',\n 'Ob4z8H10.png',\n 'Ob3z25H10.png',\n 'Ob10z29H11.png',\n 'Ob7z30H8.png',\n 'Ob9z9H8.png',\n 'Ob6z23H2.png',\n 'Ob6z30H8.png',\n 'Ob2z23H12.png',\n 'Ob7z23H2.png',\n 'Ob10z19H7.png',\n 'Ob3z12H5.png',\n 'Ob2z12H5.png',\n 'Ob1z7H1.png',\n 'Ob5z17H4.png',\n 'Ob9z1H1.png',\n 'Ob8z3H6.png',\n 'Ob4z17H4.png',\n 'Ob1z20H5.png',\n 'Ob9z21H9.png',\n 'Ob8z21H9.png',\n 'Ob10z9H5.png',\n 'Ob10z25H11.png',\n 'Ob3z29H3.png',\n 'Ob10z22H1.png',\n 'Ob10z17H8.png',\n 'Ob2z6H1.png',\n 'Ob7z25H4.png',\n 'Ob3z29H10.png',\n 'Ob4z4H10.png',\n 'Ob5z4H10.png',\n 'Ob6z25H4.png',\n 'Ob3z4H6.png',\n 'Ob3z10H7.png',\n 'Ob10z5H8.png',\n 'Ob10z13H10.png',\n 'Ob4z3H8.png',\n 'Ob2z10H7.png',\n 'Ob1z19H1.png',\n 'Ob9z3H3.png',\n 'Ob5z15H6.png',\n 'Ob6z29H9.png',\n 'Ob1z5H3.png',\n 'Ob6z7H12.png',\n 'Ob7z7H12.png',\n 'Ob4z15H6.png',\n 'Ob8z1H4.png',\n 'Ob7z29H9.png',\n 'Ob8z30H1.png',\n 'Ob7z2H8.png',\n 'Ob1z22H7.png',\n 'Ob9z16H2.png',\n 'Ob9z30H1.png',\n 'Ob10z20H3.png',\n 'Ob8z16H2.png',\n 'Ob7z27H6.png',\n 'Ob2z4H3.png',\n 'Ob3z6H4.png',\n 'Ob6z27H6.png',\n 'Ob2z4H1.png',\n 'Ob1z28H11.png',\n 'Ob7z27H4.png',\n 'Ob6z27H4.png',\n 'Ob3z6H6.png',\n 'Ob1z22H5.png',\n 'Ob9z23H9.png',\n 'Ob8z30H3.png',\n 'Ob8z23H9.png',\n 'Ob10z20H1.png',\n 'Ob9z30H3.png',\n 'Ob10z15H8.png',\n 'Ob6z7H10.png',\n 'Ob1z5H1.png',\n 'Ob3z8H9.png',\n 'Ob5z15H4.png',\n 'Ob9z3H1.png',\n 'Ob8z1H6.png',\n 'Ob4z15H4.png',\n 'Ob7z7H10.png',\n 'Ob10z13H12.png',\n 'Ob3z10H5.png',\n 'Ob1z3H11.png',\n 'Ob2z19H11.png',\n 'Ob1z19H3.png',\n 'Ob2z10H5.png',\n 'Ob4z4H12.png',\n 'Ob3z29H12.png',\n 'Ob4z19H9.png',\n 'Ob7z25H6.png',\n 'Ob2z6H3.png',\n 'Ob5z19H9.png',\n 'Ob3z4H4.png',\n 'Ob6z25H6.png',\n 'Ob5z4H12.png',\n 'Ob1z20H7.png',\n 'Ob9z14H2.png',\n 'Ob10z22H3.png',\n 'Ob8z14H2.png',\n 'Ob3z29H1.png',\n 'Ob10z9H7.png',\n 'Ob9z1H3.png',\n 'Ob5z17H6.png',\n 'Ob1z7H3.png',\n 'Ob4z17H6.png',\n 'Ob8z3H4.png',\n 'Ob10z7H8.png',\n 'Ob3z12H7.png',\n 'Ob10z19H5.png',\n 'Ob4z1H8.png',\n 'Ob2z12H7.png',\n 'Ob3z2H2.png',\n 'Ob6z16H9.png',\n 'Ob5z11H11.png',\n 'Ob7z16H9.png',\n 'Ob2z23H10.png',\n 'Ob4z9H1.png',\n 'Ob5z8H12.png',\n 'Ob6z4H9.png',\n 'Ob10z24H5.png',\n 'Ob8z12H4.png',\n 'Ob3z25H12.png',\n 'Ob4z8H12.png',\n 'Ob1z26H1.png',\n 'Ob1z13H8.png',\n 'Ob9z12H4.png',\n 'Ob9z17H10.png',\n 'Ob7z18H6.png',\n 'Ob4z24H9.png',\n 'Ob8z5H2.png',\n 'Ob9z7H5.png',\n 'Ob1z1H5.png',\n 'Ob6z18H6.png',\n 'Ob5z24H9.png',\n 'Ob5z5H9.png',\n 'Ob7z8H1.png',\n 'Ob9z29H2.png',\n 'Ob2z14H1.png',\n 'Ob2z21H8.png',\n 'Ob8z11H12.png',\n 'Ob1z12H10.png',\n 'Ob10z1H12.png',\n 'Ob3z21H8.png',\n 'Ob3z14H1.png',\n 'Ob8z29H2.png',\n 'Ob6z20H11.png',\n 'Ob5z28H4.png',\n 'Ob7z10H12.png',\n 'Ob6z21H2.png',\n 'Ob2z2H7.png',\n 'Ob9z21H11.png',\n 'Ob7z21H2.png',\n 'Ob4z28H4.png',\n 'Ob6z16H10.png',\n 'Ob8z10H6.png',\n 'Ob10z26H7.png',\n 'Ob1z24H11.png',\n 'Ob9z10H6.png',\n 'Ob1z24H3.png',\n 'Ob5z9H4.png',\n 'Ob2z15H11.png',\n 'Ob4z13H2.png',\n 'Ob5z27H10.png',\n 'Ob1z3H7.png',\n 'Ob5z13H2.png',\n 'Ob9z5H7.png',\n 'Ob2z16H3.png',\n 'Ob10z28H8.png',\n 'Ob6z8H4.png',\n 'Ob4z21H12.png',\n 'Ob3z16H3.png',\n 'Ob10z28H9.png',\n 'Ob6z8H5.png',\n 'Ob3z16H2.png',\n 'Ob3z30H1.png',\n 'Ob2z16H2.png',\n 'Ob3z13H12.png',\n 'Ob5z13H3.png',\n 'Ob1z3H6.png',\n 'Ob5z27H11.png',\n 'Ob9z5H6.png',\n 'Ob8z7H1.png',\n 'Ob4z13H3.png',\n 'Ob2z15H10.png',\n 'Ob5z9H5.png',\n 'Ob1z24H2.png',\n 'Ob9z10H7.png',\n 'Ob8z27H12.png',\n 'Ob1z24H10.png',\n 'Ob8z10H7.png',\n 'Ob6z16H11.png',\n 'Ob10z26H6.png',\n 'Ob2z2H6.png',\n 'Ob4z28H5.png',\n 'Ob7z21H3.png',\n 'Ob9z21H10.png',\n 'Ob6z21H3.png',\n 'Ob5z28H5.png',\n 'Ob8z29H3.png',\n 'Ob3z21H9.png',\n 'Ob6z20H10.png',\n 'Ob2z21H9.png',\n 'Ob9z29H3.png',\n 'Ob5z5H8.png',\n 'Ob1z12H11.png',\n 'Ob7z26H12.png',\n 'Ob9z7H4.png',\n 'Ob6z18H7.png',\n 'Ob5z24H8.png',\n 'Ob1z1H4.png',\n 'Ob5z11H1.png',\n 'Ob9z17H11.png',\n 'Ob4z11H1.png',\n 'Ob8z5H3.png',\n 'Ob7z18H7.png',\n 'Ob4z24H8.png',\n 'Ob9z12H5.png',\n 'Ob1z13H9.png',\n 'Ob6z4H8.png',\n 'Ob10z24H4.png',\n 'Ob4z17H12.png',\n 'Ob8z12H5.png',\n 'Ob7z23H1.png',\n 'Ob7z16H8.png',\n 'Ob2z23H11.png',\n 'Ob6z16H8.png',\n 'Ob3z2H3.png',\n 'Ob6z23H1.png',\n 'Ob10z29H12.png',\n 'Ob5z11H10.png',\n 'Ob2z12H6.png',\n 'Ob3z12H6.png',\n 'Ob10z7H9.png',\n 'Ob4z1H9.png',\n 'Ob10z19H4.png',\n 'Ob4z17H7.png',\n 'Ob8z3H5.png',\n 'Ob9z1H2.png',\n 'Ob1z7H2.png',\n 'Ob5z17H7.png',\n 'Ob10z22H2.png',\n 'Ob10z9H6.png',\n 'Ob10z25H12.png',\n 'Ob8z14H3.png',\n 'Ob9z14H3.png',\n 'Ob1z20H6.png',\n 'Ob3z4H5.png',\n 'Ob5z19H8.png',\n 'Ob6z25H7.png',\n 'Ob4z19H8.png',\n 'Ob7z25H7.png',\n 'Ob2z6H2.png',\n 'Ob2z19H10.png',\n 'Ob1z3H10.png',\n 'Ob2z10H4.png',\n 'Ob1z19H2.png',\n 'Ob3z10H4.png',\n 'Ob7z7H11.png',\n 'Ob8z1H7.png',\n 'Ob4z15H5.png',\n 'Ob5z15H5.png',\n 'Ob3z8H8.png',\n 'Ob6z7H11.png',\n 'Ob8z16H1.png',\n 'Ob8z23H8.png',\n 'Ob10z15H9.png',\n 'Ob9z30H2.png',\n 'Ob9z23H8.png',\n 'Ob1z22H4.png',\n 'Ob9z16H1.png',\n 'Ob8z30H2.png',\n 'Ob6z27H5.png',\n 'Ob3z6H7.png',\n 'Ob1z28H10.png',\n 'Ob7z27H5.png',\n 'Ob6z14H10.png',\n 'Ob8z30H6.png',\n 'Ob1z17H9.png',\n 'Ob9z16H5.png',\n 'Ob1z26H11.png',\n 'Ob10z20H4.png',\n 'Ob9z30H6.png',\n 'Ob8z16H5.png',\n 'Ob7z27H1.png',\n 'Ob7z12H8.png',\n 'Ob7z12H12.png',\n 'Ob2z4H4.png',\n 'Ob6z12H8.png',\n 'Ob3z6H3.png',\n 'Ob6z27H1.png',\n 'Ob9z23H11.png',\n 'Ob7z9H10.png',\n 'Ob3z25H9.png',\n 'Ob6z9H10.png',\n 'Ob1z19H6.png',\n 'Ob2z25H9.png',\n 'Ob5z1H8.png',\n 'Ob4z23H12.png',\n 'Ob2z17H11.png',\n 'Ob9z3H4.png',\n 'Ob5z20H8.png',\n 'Ob1z5H4.png',\n 'Ob5z15H1.png',\n 'Ob5z25H10.png',\n 'Ob4z15H1.png',\n 'Ob8z1H3.png',\n 'Ob4z20H8.png',\n 'Ob1z20H2.png',\n 'Ob9z14H7.png',\n 'Ob3z29H4.png',\n 'Ob3z27H12.png',\n 'Ob8z14H7.png',\n 'Ob10z9H2.png',\n 'Ob10z22H6.png',\n 'Ob2z6H6.png',\n 'Ob5z13H11.png',\n 'Ob7z25H3.png',\n 'Ob2z21H10.png',\n 'Ob6z25H3.png',\n 'Ob3z4H1.png',\n 'Ob1z9H9.png',\n 'Ob9z2H10.png',\n 'Ob1z10H10.png',\n 'Ob8z13H12.png',\n 'Ob10z3H12.png',\n 'Ob3z12H2.png',\n 'Ob6z22H11.png',\n 'Ob2z12H2.png',\n 'Ob8z2H10.png',\n 'Ob5z17H3.png',\n 'Ob9z15H10.png',\n 'Ob1z7H6.png',\n 'Ob9z1H6.png',\n 'Ob8z3H1.png',\n 'Ob4z17H3.png',\n 'Ob2z8H9.png',\n 'Ob8z12H1.png',\n 'Ob8z27H8.png',\n 'Ob10z11H9.png',\n 'Ob4z9H4.png',\n 'Ob1z26H4.png',\n 'Ob9z27H8.png',\n 'Ob9z12H1.png',\n 'Ob4z6H12.png',\n 'Ob6z23H5.png',\n 'Ob3z2H7.png',\n 'Ob5z6H12.png',\n 'Ob7z23H5.png',\n 'Ob2z14H4.png',\n 'Ob9z29H7.png',\n 'Ob7z8H4.png',\n 'Ob9z19H10.png',\n 'Ob8z29H7.png',\n 'Ob3z14H4.png',\n 'Ob7z18H3.png',\n 'Ob8z5H7.png',\n 'Ob4z11H5.png',\n 'Ob5z11H5.png',\n 'Ob6z18H3.png',\n 'Ob10z26H2.png',\n 'Ob3z18H9.png',\n 'Ob8z10H3.png',\n 'Ob9z10H3.png',\n 'Ob7z4H9.png',\n 'Ob2z18H9.png',\n 'Ob1z24H6.png',\n 'Ob5z9H1.png',\n 'Ob5z28H1.png',\n 'Ob6z21H7.png',\n 'Ob6z18H10.png',\n 'Ob7z21H7.png',\n 'Ob4z28H1.png',\n 'Ob2z2H2.png',\n 'Ob5z29H10.png',\n 'Ob6z30H11.png',\n 'Ob2z16H6.png',\n 'Ob10z11H12.png',\n 'Ob3z30H5.png',\n 'Ob3z16H6.png',\n 'Ob10z3H9.png',\n 'Ob1z1H11.png',\n 'Ob6z8H1.png',\n 'Ob4z5H9.png',\n 'Ob6z5H10.png',\n 'Ob4z13H7.png',\n 'Ob8z7H5.png',\n 'Ob7z5H10.png',\n 'Ob9z5H2.png',\n 'Ob1z3H2.png',\n 'Ob5z13H7.png',\n 'Ob9z5H3.png',\n 'Ob7z5H11.png',\n 'Ob5z13H6.png',\n 'Ob1z3H3.png',\n 'Ob6z5H11.png',\n 'Ob4z13H6.png',\n 'Ob8z7H4.png',\n 'Ob1z1H10.png',\n 'Ob10z3H8.png',\n 'Ob3z16H7.png',\n 'Ob4z5H8.png',\n 'Ob2z16H7.png',\n 'Ob6z30H10.png',\n 'Ob5z29H11.png',\n 'Ob3z30H4.png',\n 'Ob7z21H6.png',\n 'Ob6z18H11.png',\n 'Ob2z2H3.png',\n 'Ob6z21H6.png',\n 'Ob8z29H12.png',\n 'Ob2z18H8.png',\n 'Ob1z24H7.png',\n 'Ob7z4H8.png',\n 'Ob9z10H2.png',\n 'Ob10z26H3.png',\n 'Ob8z10H2.png',\n 'Ob3z18H8.png',\n 'Ob6z18H2.png',\n 'Ob1z1H1.png',\n 'Ob5z11H4.png',\n 'Ob9z7H1.png',\n 'Ob8z5H6.png',\n 'Ob4z11H4.png',\n 'Ob7z18H2.png',\n 'Ob9z19H11.png',\n 'Ob3z14H5.png',\n 'Ob8z29H6.png',\n 'Ob7z28H12.png',\n 'Ob9z29H6.png',\n 'Ob7z8H5.png',\n 'Ob2z14H5.png',\n 'Ob4z19H12.png',\n 'Ob7z23H4.png',\n 'Ob6z23H4.png',\n 'Ob3z2H6.png',\n 'Ob3z2H12.png',\n 'Ob9z27H9.png',\n 'Ob1z26H5.png',\n 'Ob10z27H12.png',\n 'Ob8z27H9.png',\n 'Ob2z2H12.png',\n 'Ob10z24H1.png',\n 'Ob4z9H5.png',\n 'Ob10z11H8.png',\n 'Ob4z17H2.png',\n 'Ob7z24H12.png',\n 'Ob2z8H8.png',\n 'Ob1z7H7.png',\n 'Ob9z15H11.png',\n 'Ob5z17H2.png',\n 'Ob9z1H7.png',\n 'Ob8z2H11.png',\n 'Ob2z12H3.png',\n 'Ob6z22H10.png',\n 'Ob10z19H1.png',\n 'Ob3z12H3.png',\n 'Ob9z2H11.png',\n 'Ob1z10H11.png',\n 'Ob1z9H8.png',\n 'Ob6z25H2.png',\n 'Ob2z21H11.png',\n 'Ob2z6H7.png',\n 'Ob7z25H2.png',\n 'Ob5z13H10.png',\n 'Ob10z9H3.png',\n 'Ob8z14H6.png',\n 'Ob3z29H5.png',\n 'Ob10z22H7.png',\n 'Ob9z14H6.png',\n 'Ob1z20H3.png',\n 'Ob4z15H12.png',\n 'Ob5z25H11.png',\n 'Ob4z20H9.png',\n 'Ob8z1H2.png',\n 'Ob9z3H5.png',\n 'Ob2z17H10.png',\n 'Ob1z5H5.png',\n 'Ob5z20H9.png',\n 'Ob5z1H9.png',\n 'Ob2z10H1.png',\n 'Ob1z19H7.png',\n 'Ob2z25H8.png',\n 'Ob6z9H11.png',\n 'Ob3z25H8.png',\n 'Ob7z9H11.png',\n 'Ob3z10H1.png',\n 'Ob3z11H12.png',\n 'Ob3z6H2.png',\n 'Ob6z12H9.png',\n 'Ob9z23H10.png',\n 'Ob7z12H9.png',\n 'Ob2z4H5.png',\n 'Ob9z30H7.png',\n 'Ob1z26H10.png',\n 'Ob10z20H5.png',\n 'Ob8z25H12.png',\n 'Ob8z16H4.png',\n 'Ob8z30H7.png',\n 'Ob6z14H11.png',\n 'Ob1z22H1.png',\n 'Ob9z16H4.png',\n 'Ob1z17H8.png',\n 'Ob8z16H6.png',\n 'Ob10z20H7.png',\n 'Ob1z26H12.png',\n 'Ob8z25H10.png',\n 'Ob9z30H5.png',\n 'Ob9z16H6.png',\n 'Ob1z22H3.png',\n 'Ob8z30H5.png',\n 'Ob9z23H12.png',\n 'Ob6z27H2.png',\n 'Ob7z12H11.png',\n 'Ob2z4H7.png',\n 'Ob7z27H2.png',\n 'Ob4z23H11.png',\n 'Ob1z19H5.png',\n 'Ob9z18H9.png',\n 'Ob2z10H3.png',\n 'Ob3z11H10.png',\n 'Ob3z10H3.png',\n 'Ob8z18H9.png',\n 'Ob4z15H2.png',\n 'Ob1z5H7.png',\n 'Ob5z15H2.png',\n 'Ob2z17H12.png',\n 'Ob9z3H7.png',\n 'Ob6z2H9.png',\n 'Ob10z22H5.png',\n 'Ob3z29H7.png',\n 'Ob3z27H11.png',\n 'Ob8z14H4.png',\n 'Ob10z9H1.png',\n 'Ob4z15H10.png',\n 'Ob1z20H1.png',\n 'Ob9z14H4.png',\n 'Ob1z15H8.png',\n 'Ob3z4H2.png',\n 'Ob6z10H9.png',\n 'Ob5z13H12.png',\n 'Ob7z10H9.png',\n 'Ob2z6H5.png',\n 'Ob6z22H12.png',\n 'Ob5z3H9.png',\n 'Ob2z12H1.png',\n 'Ob2z27H8.png',\n 'Ob8z13H11.png',\n 'Ob3z27H8.png',\n 'Ob10z3H11.png',\n 'Ob3z12H1.png',\n 'Ob10z19H3.png',\n 'Ob7z24H10.png',\n 'Ob4z22H9.png',\n 'Ob8z3H2.png',\n 'Ob9z1H5.png',\n 'Ob1z7H5.png',\n 'Ob5z22H9.png',\n 'Ob10z27H10.png',\n 'Ob1z26H7.png',\n 'Ob7z6H8.png',\n 'Ob3z2H10.png',\n 'Ob9z12H2.png',\n 'Ob4z9H7.png',\n 'Ob10z24H3.png',\n 'Ob8z12H2.png',\n 'Ob2z2H10.png',\n 'Ob7z23H6.png',\n 'Ob4z19H10.png',\n 'Ob5z6H11.png',\n 'Ob3z2H4.png',\n 'Ob6z23H6.png',\n 'Ob4z6H11.png',\n 'Ob8z29H4.png',\n 'Ob3z14H7.png',\n 'Ob10z1H8.png',\n 'Ob4z7H8.png',\n 'Ob2z14H7.png',\n 'Ob1z28H8.png',\n 'Ob7z8H7.png',\n 'Ob9z29H4.png',\n 'Ob7z28H10.png',\n 'Ob9z7H3.png',\n 'Ob5z11H6.png',\n 'Ob1z1H3.png',\n 'Ob4z11H6.png',\n 'Ob8z5H4.png',\n 'Ob9z25H9.png',\n 'Ob1z24H5.png',\n 'Ob5z9H2.png',\n 'Ob8z25H9.png',\n 'Ob10z26H1.png',\n 'Ob10z13H8.png',\n 'Ob2z2H1.png',\n 'Ob8z9H9.png',\n 'Ob7z21H4.png',\n 'Ob4z28H2.png',\n 'Ob5z28H2.png',\n 'Ob8z29H10.png',\n 'Ob6z21H4.png',\n 'Ob6z8H2.png',\n 'Ob3z16H5.png',\n 'Ob1z1H12.png',\n 'Ob3z30H6.png',\n 'Ob6z30H12.png',\n 'Ob10z11H11.png',\n 'Ob2z16H5.png',\n 'Ob1z3H1.png',\n 'Ob5z13H4.png',\n 'Ob9z5H1.png',\n 'Ob8z7H6.png',\n 'Ob4z13H4.png',\n 'Ob8z7H7.png',\n 'Ob4z13H5.png',\n 'Ob6z5H12.png',\n 'Ob5z13H5.png',\n 'Ob7z5H12.png',\n 'Ob3z30H7.png',\n 'Ob10z11H10.png',\n 'Ob2z16H4.png',\n 'Ob5z29H12.png',\n 'Ob6z8H3.png',\n 'Ob3z16H4.png',\n 'Ob6z21H5.png',\n 'Ob8z29H11.png',\n 'Ob5z28H3.png',\n 'Ob4z28H3.png',\n 'Ob7z21H5.png',\n 'Ob8z9H8.png',\n 'Ob6z18H12.png',\n 'Ob8z10H1.png',\n 'Ob8z25H8.png',\n 'Ob10z13H9.png',\n 'Ob5z9H3.png',\n 'Ob1z24H4.png',\n 'Ob9z25H8.png',\n 'Ob9z10H1.png',\n 'Ob4z11H7.png',\n 'Ob8z5H5.png',\n 'Ob7z18H1.png',\n 'Ob9z7H2.png',\n 'Ob6z18H1.png',\n 'Ob1z1H2.png',\n 'Ob5z11H7.png',\n 'Ob7z8H6.png',\n 'Ob9z29H5.png',\n 'Ob2z14H6.png',\n 'Ob1z28H9.png',\n 'Ob7z28H11.png',\n 'Ob10z1H9.png',\n 'Ob3z14H6.png',\n 'Ob8z29H5.png',\n 'Ob4z7H9.png',\n 'Ob9z19H12.png',\n 'Ob3z2H5.png',\n 'Ob6z23H7.png',\n 'Ob4z6H10.png',\n 'Ob7z23H7.png',\n 'Ob5z6H10.png',\n 'Ob4z19H11.png',\n 'Ob10z24H2.png',\n 'Ob4z9H6.png',\n 'Ob2z2H11.png',\n 'Ob8z12H3.png',\n 'Ob10z27H11.png',\n 'Ob9z12H3.png',\n 'Ob7z6H9.png',\n 'Ob3z2H11.png',\n 'Ob1z26H6.png',\n 'Ob9z1H4.png',\n 'Ob5z22H8.png',\n 'Ob1z7H4.png',\n 'Ob9z15H12.png',\n 'Ob5z17H1.png',\n 'Ob4z17H1.png',\n 'Ob8z3H3.png',\n 'Ob4z22H8.png',\n 'Ob7z24H11.png',\n 'Ob10z3H10.png',\n 'Ob1z10H12.png',\n 'Ob9z2H12.png',\n 'Ob3z27H9.png',\n 'Ob8z13H10.png',\n 'Ob10z19H2.png',\n 'Ob2z27H9.png',\n 'Ob8z2H12.png',\n 'Ob5z3H8.png',\n 'Ob7z25H1.png',\n 'Ob7z10H8.png',\n 'Ob2z6H4.png',\n 'Ob6z10H8.png',\n 'Ob3z4H3.png',\n 'Ob6z25H1.png',\n 'Ob2z21H12.png',\n 'Ob1z15H9.png',\n 'Ob9z14H5.png',\n 'Ob4z15H11.png',\n 'Ob6z2H8.png',\n 'Ob10z22H4.png',\n 'Ob8z14H5.png',\n 'Ob3z27H10.png',\n 'Ob3z29H6.png',\n 'Ob5z15H3.png',\n 'Ob1z5H6.png',\n 'Ob9z3H6.png',\n 'Ob8z1H1.png',\n 'Ob4z15H3.png',\n 'Ob5z25H12.png',\n 'Ob3z11H11.png',\n 'Ob8z18H8.png',\n 'Ob7z9H12.png',\n 'Ob3z10H2.png',\n 'Ob4z23H10.png',\n 'Ob2z10H2.png',\n 'Ob9z18H8.png',\n 'Ob1z19H4.png',\n 'Ob6z9H12.png',\n 'Ob2z4H6.png',\n 'Ob7z12H10.png',\n 'Ob7z27H3.png',\n 'Ob6z27H3.png',\n 'Ob3z6H1.png',\n 'Ob1z22H2.png',\n 'Ob9z16H7.png',\n 'Ob8z30H4.png',\n 'Ob6z14H12.png',\n 'Ob8z16H7.png',\n 'Ob9z30H4.png',\n 'Ob8z25H11.png',\n 'Ob10z20H6.png',\n 'Ob5z29H4.png',\n 'Ob6z20H2.png',\n 'Ob2z25H11.png',\n 'Ob7z20H2.png',\n 'Ob2z3H7.png',\n 'Ob5z17H10.png',\n 'Ob10z27H7.png',\n 'Ob8z11H6.png',\n 'Ob4z11H12.png',\n 'Ob9z11H6.png',\n 'Ob5z8H4.png',\n 'Ob1z25H3.png',\n 'Ob7z20H12.png',\n 'Ob4z12H2.png',\n 'Ob9z4H7.png',\n 'Ob9z11H11.png',\n 'Ob5z12H2.png',\n 'Ob1z2H7.png',\n 'Ob2z17H3.png',\n 'Ob8z6H11.png',\n 'Ob6z26H10.png',\n 'Ob3z17H3.png',\n 'Ob10z29H8.png',\n 'Ob6z9H4.png',\n 'Ob9z6H11.png',\n 'Ob1z14H11.png',\n 'Ob3z3H2.png',\n 'Ob9z27H10.png',\n 'Ob6z17H9.png',\n 'Ob2z1H5.png',\n 'Ob7z17H9.png',\n 'Ob8z13H4.png',\n 'Ob1z22H10.png',\n 'Ob8z21H12.png',\n 'Ob6z5H9.png',\n 'Ob10z25H5.png',\n 'Ob4z8H1.png',\n 'Ob1z27H1.png',\n 'Ob6z10H11.png',\n 'Ob9z13H4.png',\n 'Ob1z12H8.png',\n 'Ob7z19H6.png',\n 'Ob4z25H9.png',\n 'Ob5z21H11.png',\n 'Ob8z4H2.png',\n 'Ob6z19H6.png',\n 'Ob5z25H9.png',\n 'Ob2z13H10.png',\n 'Ob1z9H10.png',\n 'Ob9z6H5.png',\n 'Ob2z15H1.png',\n 'Ob7z9H1.png',\n 'Ob9z28H2.png',\n 'Ob5z4H9.png',\n 'Ob2z20H8.png',\n 'Ob3z20H8.png',\n 'Ob8z28H2.png',\n 'Ob3z15H12.png',\n 'Ob3z15H1.png',\n 'Ob2z7H3.png',\n 'Ob4z18H9.png',\n 'Ob7z24H6.png',\n 'Ob3z5H4.png',\n 'Ob5z18H9.png',\n 'Ob6z24H6.png',\n 'Ob1z21H7.png',\n 'Ob7z1H8.png',\n 'Ob10z30H9.png',\n 'Ob9z15H2.png',\n 'Ob3z28H1.png',\n 'Ob8z15H2.png',\n 'Ob10z8H7.png',\n 'Ob10z23H3.png',\n 'Ob1z6H3.png',\n 'Ob7z1H11.png',\n 'Ob5z16H6.png',\n 'Ob3z19H12.png',\n 'Ob4z16H6.png',\n 'Ob8z2H4.png',\n 'Ob6z1H11.png',\n 'Ob5z30H5.png',\n 'Ob10z18H5.png',\n 'Ob1z5H10.png',\n 'Ob10z6H8.png',\n 'Ob3z13H7.png',\n 'Ob2z13H7.png',\n 'Ob7z26H4.png',\n 'Ob2z5H1.png',\n 'Ob6z26H4.png',\n 'Ob3z7H6.png',\n 'Ob8z31H3.png',\n 'Ob3z6H12.png',\n 'Ob10z23H12.png',\n 'Ob9z22H9.png',\n 'Ob1z23H5.png',\n 'Ob2z6H12.png',\n 'Ob10z21H1.png',\n 'Ob10z14H8.png',\n 'Ob8z22H9.png',\n 'Ob9z2H1.png',\n 'Ob5z14H4.png',\n 'Ob3z9H9.png',\n 'Ob1z4H1.png',\n 'Ob1z18H11.png',\n 'Ob4z14H4.png',\n 'Ob3z11H5.png',\n 'Ob1z18H3.png',\n 'Ob2z11H5.png',\n 'Ob2z11H4.png',\n 'Ob1z18H2.png',\n 'Ob3z11H4.png',\n 'Ob4z14H5.png',\n ...]"
     },
     "execution_count": 18,
     "metadata": {},
     "output_type": "execute_result"
    }
   ],
   "source": [
    "train_holos"
   ],
   "metadata": {
    "collapsed": false,
    "pycharm": {
     "name": "#%%\n"
    }
   }
  },
  {
   "cell_type": "code",
   "execution_count": 19,
   "outputs": [
    {
     "data": {
      "text/plain": "(3540, 708)"
     },
     "execution_count": 19,
     "metadata": {},
     "output_type": "execute_result"
    }
   ],
   "source": [
    "len(train_holos), len(val_holos)"
   ],
   "metadata": {
    "collapsed": false,
    "pycharm": {
     "name": "#%%\n"
    }
   }
  },
  {
   "cell_type": "code",
   "execution_count": 14,
   "outputs": [],
   "source": [
    "sizes = []\n",
    "times = []\n",
    "stds = []\n",
    "train_performances = []\n",
    "val_performances = []"
   ],
   "metadata": {
    "collapsed": false,
    "pycharm": {
     "name": "#%%\n"
    }
   }
  },
  {
   "cell_type": "code",
   "execution_count": 15,
   "outputs": [
    {
     "name": "stdout",
     "output_type": "stream",
     "text": [
      "270 ms ± 2.32 ms per loop (mean ± std. dev. of 7 runs, 1 loop each)\n",
      "298 ms ± 1.81 ms per loop (mean ± std. dev. of 7 runs, 1 loop each)\n",
      "381 ms ± 1.51 ms per loop (mean ± std. dev. of 7 runs, 1 loop each)\n",
      "2.03 s ± 4.16 ms per loop (mean ± std. dev. of 7 runs, 1 loop each)\n",
      "1.12 s ± 12.8 ms per loop (mean ± std. dev. of 7 runs, 1 loop each)\n"
     ]
    }
   ],
   "source": [
    "df_holograms = pd.read_csv('../dataset_unal/database_unal.csv')\n",
    "images = pd.Series(images, name='ArchivoHolograma').str.split('.png').str[0]\n",
    "for model_dir in model_dirs:\n",
    "    model = load_model(\n",
    "        f'../models/{model_dir}',\n",
    "        custom_objects={'Rotate90Randomly': Rotate90Randomly, 'Fourier2D': Fourier2D}\n",
    "    )\n",
    "    results = %timeit -o model.predict(image_arrays, batch_size=5, verbose=0)\n",
    "    sizes.append(model.count_params())\n",
    "    times.append(results.average)\n",
    "    stds.append(results.stdev)\n",
    "\n",
    "    predictions = model.predict(image_arrays, batch_size=5, verbose=0)\n",
    "\n",
    "    df_aux = pd.read_csv(f'../hist/{model_dir}.csv')\n",
    "    idx = df_aux['val_mae'].idxmin()\n",
    "    train_performances.append(df_aux.loc[idx, 'mae'])\n",
    "    val_performances.append(df_aux.loc[idx, 'val_mae'])"
   ],
   "metadata": {
    "collapsed": false,
    "pycharm": {
     "name": "#%%\n"
    }
   }
  },
  {
   "cell_type": "code",
   "execution_count": 19,
   "outputs": [],
   "source": [
    "df_plot = pd.DataFrame({\n",
    "    'Size (number of parameters)': sizes,\n",
    "    'Time (s)': times,\n",
    "    'std': stds,\n",
    "    'Train': train_performances,\n",
    "    'Validation': val_performances,\n",
    "})"
   ],
   "metadata": {
    "collapsed": false,
    "pycharm": {
     "name": "#%%\n"
    }
   }
  },
  {
   "cell_type": "code",
   "execution_count": 21,
   "outputs": [
    {
     "data": {
      "application/vnd.plotly.v1+json": {
       "data": [
        {
         "hovertemplate": "Size (number of parameters)=%{x}<br>Time (s)=%{y}<extra></extra>",
         "legendgroup": "",
         "marker": {
          "color": "#636efa",
          "symbol": "circle",
          "size": 12
         },
         "mode": "markers",
         "name": "",
         "orientation": "v",
         "showlegend": false,
         "x": [
          54313,
          851617,
          2653857,
          35769665,
          8945313
         ],
         "xaxis": "x",
         "y": [
          0.2695552974285726,
          0.2976702082857149,
          0.3808227321428583,
          2.033964029571431,
          1.1196628691428532
         ],
         "yaxis": "y",
         "type": "scatter"
        }
       ],
       "layout": {
        "template": {
         "data": {
          "barpolar": [
           {
            "marker": {
             "line": {
              "color": "white",
              "width": 0.5
             },
             "pattern": {
              "fillmode": "overlay",
              "size": 10,
              "solidity": 0.2
             }
            },
            "type": "barpolar"
           }
          ],
          "bar": [
           {
            "error_x": {
             "color": "#2a3f5f"
            },
            "error_y": {
             "color": "#2a3f5f"
            },
            "marker": {
             "line": {
              "color": "white",
              "width": 0.5
             },
             "pattern": {
              "fillmode": "overlay",
              "size": 10,
              "solidity": 0.2
             }
            },
            "type": "bar"
           }
          ],
          "carpet": [
           {
            "aaxis": {
             "endlinecolor": "#2a3f5f",
             "gridcolor": "#C8D4E3",
             "linecolor": "#C8D4E3",
             "minorgridcolor": "#C8D4E3",
             "startlinecolor": "#2a3f5f"
            },
            "baxis": {
             "endlinecolor": "#2a3f5f",
             "gridcolor": "#C8D4E3",
             "linecolor": "#C8D4E3",
             "minorgridcolor": "#C8D4E3",
             "startlinecolor": "#2a3f5f"
            },
            "type": "carpet"
           }
          ],
          "choropleth": [
           {
            "colorbar": {
             "outlinewidth": 0,
             "ticks": ""
            },
            "type": "choropleth"
           }
          ],
          "contourcarpet": [
           {
            "colorbar": {
             "outlinewidth": 0,
             "ticks": ""
            },
            "type": "contourcarpet"
           }
          ],
          "contour": [
           {
            "colorbar": {
             "outlinewidth": 0,
             "ticks": ""
            },
            "colorscale": [
             [
              0.0,
              "#0d0887"
             ],
             [
              0.1111111111111111,
              "#46039f"
             ],
             [
              0.2222222222222222,
              "#7201a8"
             ],
             [
              0.3333333333333333,
              "#9c179e"
             ],
             [
              0.4444444444444444,
              "#bd3786"
             ],
             [
              0.5555555555555556,
              "#d8576b"
             ],
             [
              0.6666666666666666,
              "#ed7953"
             ],
             [
              0.7777777777777778,
              "#fb9f3a"
             ],
             [
              0.8888888888888888,
              "#fdca26"
             ],
             [
              1.0,
              "#f0f921"
             ]
            ],
            "type": "contour"
           }
          ],
          "heatmapgl": [
           {
            "colorbar": {
             "outlinewidth": 0,
             "ticks": ""
            },
            "colorscale": [
             [
              0.0,
              "#0d0887"
             ],
             [
              0.1111111111111111,
              "#46039f"
             ],
             [
              0.2222222222222222,
              "#7201a8"
             ],
             [
              0.3333333333333333,
              "#9c179e"
             ],
             [
              0.4444444444444444,
              "#bd3786"
             ],
             [
              0.5555555555555556,
              "#d8576b"
             ],
             [
              0.6666666666666666,
              "#ed7953"
             ],
             [
              0.7777777777777778,
              "#fb9f3a"
             ],
             [
              0.8888888888888888,
              "#fdca26"
             ],
             [
              1.0,
              "#f0f921"
             ]
            ],
            "type": "heatmapgl"
           }
          ],
          "heatmap": [
           {
            "colorbar": {
             "outlinewidth": 0,
             "ticks": ""
            },
            "colorscale": [
             [
              0.0,
              "#0d0887"
             ],
             [
              0.1111111111111111,
              "#46039f"
             ],
             [
              0.2222222222222222,
              "#7201a8"
             ],
             [
              0.3333333333333333,
              "#9c179e"
             ],
             [
              0.4444444444444444,
              "#bd3786"
             ],
             [
              0.5555555555555556,
              "#d8576b"
             ],
             [
              0.6666666666666666,
              "#ed7953"
             ],
             [
              0.7777777777777778,
              "#fb9f3a"
             ],
             [
              0.8888888888888888,
              "#fdca26"
             ],
             [
              1.0,
              "#f0f921"
             ]
            ],
            "type": "heatmap"
           }
          ],
          "histogram2dcontour": [
           {
            "colorbar": {
             "outlinewidth": 0,
             "ticks": ""
            },
            "colorscale": [
             [
              0.0,
              "#0d0887"
             ],
             [
              0.1111111111111111,
              "#46039f"
             ],
             [
              0.2222222222222222,
              "#7201a8"
             ],
             [
              0.3333333333333333,
              "#9c179e"
             ],
             [
              0.4444444444444444,
              "#bd3786"
             ],
             [
              0.5555555555555556,
              "#d8576b"
             ],
             [
              0.6666666666666666,
              "#ed7953"
             ],
             [
              0.7777777777777778,
              "#fb9f3a"
             ],
             [
              0.8888888888888888,
              "#fdca26"
             ],
             [
              1.0,
              "#f0f921"
             ]
            ],
            "type": "histogram2dcontour"
           }
          ],
          "histogram2d": [
           {
            "colorbar": {
             "outlinewidth": 0,
             "ticks": ""
            },
            "colorscale": [
             [
              0.0,
              "#0d0887"
             ],
             [
              0.1111111111111111,
              "#46039f"
             ],
             [
              0.2222222222222222,
              "#7201a8"
             ],
             [
              0.3333333333333333,
              "#9c179e"
             ],
             [
              0.4444444444444444,
              "#bd3786"
             ],
             [
              0.5555555555555556,
              "#d8576b"
             ],
             [
              0.6666666666666666,
              "#ed7953"
             ],
             [
              0.7777777777777778,
              "#fb9f3a"
             ],
             [
              0.8888888888888888,
              "#fdca26"
             ],
             [
              1.0,
              "#f0f921"
             ]
            ],
            "type": "histogram2d"
           }
          ],
          "histogram": [
           {
            "marker": {
             "pattern": {
              "fillmode": "overlay",
              "size": 10,
              "solidity": 0.2
             }
            },
            "type": "histogram"
           }
          ],
          "mesh3d": [
           {
            "colorbar": {
             "outlinewidth": 0,
             "ticks": ""
            },
            "type": "mesh3d"
           }
          ],
          "parcoords": [
           {
            "line": {
             "colorbar": {
              "outlinewidth": 0,
              "ticks": ""
             }
            },
            "type": "parcoords"
           }
          ],
          "pie": [
           {
            "automargin": true,
            "type": "pie"
           }
          ],
          "scatter3d": [
           {
            "line": {
             "colorbar": {
              "outlinewidth": 0,
              "ticks": ""
             }
            },
            "marker": {
             "colorbar": {
              "outlinewidth": 0,
              "ticks": ""
             }
            },
            "type": "scatter3d"
           }
          ],
          "scattercarpet": [
           {
            "marker": {
             "colorbar": {
              "outlinewidth": 0,
              "ticks": ""
             }
            },
            "type": "scattercarpet"
           }
          ],
          "scattergeo": [
           {
            "marker": {
             "colorbar": {
              "outlinewidth": 0,
              "ticks": ""
             }
            },
            "type": "scattergeo"
           }
          ],
          "scattergl": [
           {
            "marker": {
             "colorbar": {
              "outlinewidth": 0,
              "ticks": ""
             }
            },
            "type": "scattergl"
           }
          ],
          "scattermapbox": [
           {
            "marker": {
             "colorbar": {
              "outlinewidth": 0,
              "ticks": ""
             }
            },
            "type": "scattermapbox"
           }
          ],
          "scatterpolargl": [
           {
            "marker": {
             "colorbar": {
              "outlinewidth": 0,
              "ticks": ""
             }
            },
            "type": "scatterpolargl"
           }
          ],
          "scatterpolar": [
           {
            "marker": {
             "colorbar": {
              "outlinewidth": 0,
              "ticks": ""
             }
            },
            "type": "scatterpolar"
           }
          ],
          "scatter": [
           {
            "fillpattern": {
             "fillmode": "overlay",
             "size": 10,
             "solidity": 0.2
            },
            "type": "scatter"
           }
          ],
          "scatterternary": [
           {
            "marker": {
             "colorbar": {
              "outlinewidth": 0,
              "ticks": ""
             }
            },
            "type": "scatterternary"
           }
          ],
          "surface": [
           {
            "colorbar": {
             "outlinewidth": 0,
             "ticks": ""
            },
            "colorscale": [
             [
              0.0,
              "#0d0887"
             ],
             [
              0.1111111111111111,
              "#46039f"
             ],
             [
              0.2222222222222222,
              "#7201a8"
             ],
             [
              0.3333333333333333,
              "#9c179e"
             ],
             [
              0.4444444444444444,
              "#bd3786"
             ],
             [
              0.5555555555555556,
              "#d8576b"
             ],
             [
              0.6666666666666666,
              "#ed7953"
             ],
             [
              0.7777777777777778,
              "#fb9f3a"
             ],
             [
              0.8888888888888888,
              "#fdca26"
             ],
             [
              1.0,
              "#f0f921"
             ]
            ],
            "type": "surface"
           }
          ],
          "table": [
           {
            "cells": {
             "fill": {
              "color": "#EBF0F8"
             },
             "line": {
              "color": "white"
             }
            },
            "header": {
             "fill": {
              "color": "#C8D4E3"
             },
             "line": {
              "color": "white"
             }
            },
            "type": "table"
           }
          ]
         },
         "layout": {
          "annotationdefaults": {
           "arrowcolor": "#2a3f5f",
           "arrowhead": 0,
           "arrowwidth": 1
          },
          "autotypenumbers": "strict",
          "coloraxis": {
           "colorbar": {
            "outlinewidth": 0,
            "ticks": ""
           }
          },
          "colorscale": {
           "diverging": [
            [
             0,
             "#8e0152"
            ],
            [
             0.1,
             "#c51b7d"
            ],
            [
             0.2,
             "#de77ae"
            ],
            [
             0.3,
             "#f1b6da"
            ],
            [
             0.4,
             "#fde0ef"
            ],
            [
             0.5,
             "#f7f7f7"
            ],
            [
             0.6,
             "#e6f5d0"
            ],
            [
             0.7,
             "#b8e186"
            ],
            [
             0.8,
             "#7fbc41"
            ],
            [
             0.9,
             "#4d9221"
            ],
            [
             1,
             "#276419"
            ]
           ],
           "sequential": [
            [
             0.0,
             "#0d0887"
            ],
            [
             0.1111111111111111,
             "#46039f"
            ],
            [
             0.2222222222222222,
             "#7201a8"
            ],
            [
             0.3333333333333333,
             "#9c179e"
            ],
            [
             0.4444444444444444,
             "#bd3786"
            ],
            [
             0.5555555555555556,
             "#d8576b"
            ],
            [
             0.6666666666666666,
             "#ed7953"
            ],
            [
             0.7777777777777778,
             "#fb9f3a"
            ],
            [
             0.8888888888888888,
             "#fdca26"
            ],
            [
             1.0,
             "#f0f921"
            ]
           ],
           "sequentialminus": [
            [
             0.0,
             "#0d0887"
            ],
            [
             0.1111111111111111,
             "#46039f"
            ],
            [
             0.2222222222222222,
             "#7201a8"
            ],
            [
             0.3333333333333333,
             "#9c179e"
            ],
            [
             0.4444444444444444,
             "#bd3786"
            ],
            [
             0.5555555555555556,
             "#d8576b"
            ],
            [
             0.6666666666666666,
             "#ed7953"
            ],
            [
             0.7777777777777778,
             "#fb9f3a"
            ],
            [
             0.8888888888888888,
             "#fdca26"
            ],
            [
             1.0,
             "#f0f921"
            ]
           ]
          },
          "colorway": [
           "#636efa",
           "#EF553B",
           "#00cc96",
           "#ab63fa",
           "#FFA15A",
           "#19d3f3",
           "#FF6692",
           "#B6E880",
           "#FF97FF",
           "#FECB52"
          ],
          "font": {
           "color": "#2a3f5f"
          },
          "geo": {
           "bgcolor": "white",
           "lakecolor": "white",
           "landcolor": "white",
           "showlakes": true,
           "showland": true,
           "subunitcolor": "#C8D4E3"
          },
          "hoverlabel": {
           "align": "left"
          },
          "hovermode": "closest",
          "mapbox": {
           "style": "light"
          },
          "paper_bgcolor": "white",
          "plot_bgcolor": "white",
          "polar": {
           "angularaxis": {
            "gridcolor": "#EBF0F8",
            "linecolor": "#EBF0F8",
            "ticks": ""
           },
           "bgcolor": "white",
           "radialaxis": {
            "gridcolor": "#EBF0F8",
            "linecolor": "#EBF0F8",
            "ticks": ""
           }
          },
          "scene": {
           "xaxis": {
            "backgroundcolor": "white",
            "gridcolor": "#DFE8F3",
            "gridwidth": 2,
            "linecolor": "#EBF0F8",
            "showbackground": true,
            "ticks": "",
            "zerolinecolor": "#EBF0F8"
           },
           "yaxis": {
            "backgroundcolor": "white",
            "gridcolor": "#DFE8F3",
            "gridwidth": 2,
            "linecolor": "#EBF0F8",
            "showbackground": true,
            "ticks": "",
            "zerolinecolor": "#EBF0F8"
           },
           "zaxis": {
            "backgroundcolor": "white",
            "gridcolor": "#DFE8F3",
            "gridwidth": 2,
            "linecolor": "#EBF0F8",
            "showbackground": true,
            "ticks": "",
            "zerolinecolor": "#EBF0F8"
           }
          },
          "shapedefaults": {
           "line": {
            "color": "#2a3f5f"
           }
          },
          "ternary": {
           "aaxis": {
            "gridcolor": "#DFE8F3",
            "linecolor": "#A2B1C6",
            "ticks": ""
           },
           "baxis": {
            "gridcolor": "#DFE8F3",
            "linecolor": "#A2B1C6",
            "ticks": ""
           },
           "bgcolor": "white",
           "caxis": {
            "gridcolor": "#DFE8F3",
            "linecolor": "#A2B1C6",
            "ticks": ""
           }
          },
          "title": {
           "x": 0.05
          },
          "xaxis": {
           "automargin": true,
           "gridcolor": "#EBF0F8",
           "linecolor": "#EBF0F8",
           "ticks": "",
           "title": {
            "standoff": 15
           },
           "zerolinecolor": "#EBF0F8",
           "zerolinewidth": 2
          },
          "yaxis": {
           "automargin": true,
           "gridcolor": "#EBF0F8",
           "linecolor": "#EBF0F8",
           "ticks": "",
           "title": {
            "standoff": 15
           },
           "zerolinecolor": "#EBF0F8",
           "zerolinewidth": 2
          }
         }
        },
        "xaxis": {
         "anchor": "y",
         "domain": [
          0.0,
          1.0
         ],
         "title": {
          "text": "Size (number of parameters)"
         }
        },
        "yaxis": {
         "anchor": "x",
         "domain": [
          0.0,
          1.0
         ],
         "title": {
          "text": "Time (s)"
         }
        },
        "legend": {
         "tracegroupgap": 0
        },
        "margin": {
         "t": 60
        },
        "font": {
         "size": 22
        }
       },
       "config": {
        "plotlyServerURL": "https://plot.ly"
       }
      },
      "text/html": "<div>                            <div id=\"dd49fa50-0b7c-480d-9d03-5f6b71249a48\" class=\"plotly-graph-div\" style=\"height:525px; width:100%;\"></div>            <script type=\"text/javascript\">                require([\"plotly\"], function(Plotly) {                    window.PLOTLYENV=window.PLOTLYENV || {};                                    if (document.getElementById(\"dd49fa50-0b7c-480d-9d03-5f6b71249a48\")) {                    Plotly.newPlot(                        \"dd49fa50-0b7c-480d-9d03-5f6b71249a48\",                        [{\"hovertemplate\":\"Size (number of parameters)=%{x}<br>Time (s)=%{y}<extra></extra>\",\"legendgroup\":\"\",\"marker\":{\"color\":\"#636efa\",\"symbol\":\"circle\",\"size\":12},\"mode\":\"markers\",\"name\":\"\",\"orientation\":\"v\",\"showlegend\":false,\"x\":[54313,851617,2653857,35769665,8945313],\"xaxis\":\"x\",\"y\":[0.2695552974285726,0.2976702082857149,0.3808227321428583,2.033964029571431,1.1196628691428532],\"yaxis\":\"y\",\"type\":\"scatter\"}],                        {\"template\":{\"data\":{\"barpolar\":[{\"marker\":{\"line\":{\"color\":\"white\",\"width\":0.5},\"pattern\":{\"fillmode\":\"overlay\",\"size\":10,\"solidity\":0.2}},\"type\":\"barpolar\"}],\"bar\":[{\"error_x\":{\"color\":\"#2a3f5f\"},\"error_y\":{\"color\":\"#2a3f5f\"},\"marker\":{\"line\":{\"color\":\"white\",\"width\":0.5},\"pattern\":{\"fillmode\":\"overlay\",\"size\":10,\"solidity\":0.2}},\"type\":\"bar\"}],\"carpet\":[{\"aaxis\":{\"endlinecolor\":\"#2a3f5f\",\"gridcolor\":\"#C8D4E3\",\"linecolor\":\"#C8D4E3\",\"minorgridcolor\":\"#C8D4E3\",\"startlinecolor\":\"#2a3f5f\"},\"baxis\":{\"endlinecolor\":\"#2a3f5f\",\"gridcolor\":\"#C8D4E3\",\"linecolor\":\"#C8D4E3\",\"minorgridcolor\":\"#C8D4E3\",\"startlinecolor\":\"#2a3f5f\"},\"type\":\"carpet\"}],\"choropleth\":[{\"colorbar\":{\"outlinewidth\":0,\"ticks\":\"\"},\"type\":\"choropleth\"}],\"contourcarpet\":[{\"colorbar\":{\"outlinewidth\":0,\"ticks\":\"\"},\"type\":\"contourcarpet\"}],\"contour\":[{\"colorbar\":{\"outlinewidth\":0,\"ticks\":\"\"},\"colorscale\":[[0.0,\"#0d0887\"],[0.1111111111111111,\"#46039f\"],[0.2222222222222222,\"#7201a8\"],[0.3333333333333333,\"#9c179e\"],[0.4444444444444444,\"#bd3786\"],[0.5555555555555556,\"#d8576b\"],[0.6666666666666666,\"#ed7953\"],[0.7777777777777778,\"#fb9f3a\"],[0.8888888888888888,\"#fdca26\"],[1.0,\"#f0f921\"]],\"type\":\"contour\"}],\"heatmapgl\":[{\"colorbar\":{\"outlinewidth\":0,\"ticks\":\"\"},\"colorscale\":[[0.0,\"#0d0887\"],[0.1111111111111111,\"#46039f\"],[0.2222222222222222,\"#7201a8\"],[0.3333333333333333,\"#9c179e\"],[0.4444444444444444,\"#bd3786\"],[0.5555555555555556,\"#d8576b\"],[0.6666666666666666,\"#ed7953\"],[0.7777777777777778,\"#fb9f3a\"],[0.8888888888888888,\"#fdca26\"],[1.0,\"#f0f921\"]],\"type\":\"heatmapgl\"}],\"heatmap\":[{\"colorbar\":{\"outlinewidth\":0,\"ticks\":\"\"},\"colorscale\":[[0.0,\"#0d0887\"],[0.1111111111111111,\"#46039f\"],[0.2222222222222222,\"#7201a8\"],[0.3333333333333333,\"#9c179e\"],[0.4444444444444444,\"#bd3786\"],[0.5555555555555556,\"#d8576b\"],[0.6666666666666666,\"#ed7953\"],[0.7777777777777778,\"#fb9f3a\"],[0.8888888888888888,\"#fdca26\"],[1.0,\"#f0f921\"]],\"type\":\"heatmap\"}],\"histogram2dcontour\":[{\"colorbar\":{\"outlinewidth\":0,\"ticks\":\"\"},\"colorscale\":[[0.0,\"#0d0887\"],[0.1111111111111111,\"#46039f\"],[0.2222222222222222,\"#7201a8\"],[0.3333333333333333,\"#9c179e\"],[0.4444444444444444,\"#bd3786\"],[0.5555555555555556,\"#d8576b\"],[0.6666666666666666,\"#ed7953\"],[0.7777777777777778,\"#fb9f3a\"],[0.8888888888888888,\"#fdca26\"],[1.0,\"#f0f921\"]],\"type\":\"histogram2dcontour\"}],\"histogram2d\":[{\"colorbar\":{\"outlinewidth\":0,\"ticks\":\"\"},\"colorscale\":[[0.0,\"#0d0887\"],[0.1111111111111111,\"#46039f\"],[0.2222222222222222,\"#7201a8\"],[0.3333333333333333,\"#9c179e\"],[0.4444444444444444,\"#bd3786\"],[0.5555555555555556,\"#d8576b\"],[0.6666666666666666,\"#ed7953\"],[0.7777777777777778,\"#fb9f3a\"],[0.8888888888888888,\"#fdca26\"],[1.0,\"#f0f921\"]],\"type\":\"histogram2d\"}],\"histogram\":[{\"marker\":{\"pattern\":{\"fillmode\":\"overlay\",\"size\":10,\"solidity\":0.2}},\"type\":\"histogram\"}],\"mesh3d\":[{\"colorbar\":{\"outlinewidth\":0,\"ticks\":\"\"},\"type\":\"mesh3d\"}],\"parcoords\":[{\"line\":{\"colorbar\":{\"outlinewidth\":0,\"ticks\":\"\"}},\"type\":\"parcoords\"}],\"pie\":[{\"automargin\":true,\"type\":\"pie\"}],\"scatter3d\":[{\"line\":{\"colorbar\":{\"outlinewidth\":0,\"ticks\":\"\"}},\"marker\":{\"colorbar\":{\"outlinewidth\":0,\"ticks\":\"\"}},\"type\":\"scatter3d\"}],\"scattercarpet\":[{\"marker\":{\"colorbar\":{\"outlinewidth\":0,\"ticks\":\"\"}},\"type\":\"scattercarpet\"}],\"scattergeo\":[{\"marker\":{\"colorbar\":{\"outlinewidth\":0,\"ticks\":\"\"}},\"type\":\"scattergeo\"}],\"scattergl\":[{\"marker\":{\"colorbar\":{\"outlinewidth\":0,\"ticks\":\"\"}},\"type\":\"scattergl\"}],\"scattermapbox\":[{\"marker\":{\"colorbar\":{\"outlinewidth\":0,\"ticks\":\"\"}},\"type\":\"scattermapbox\"}],\"scatterpolargl\":[{\"marker\":{\"colorbar\":{\"outlinewidth\":0,\"ticks\":\"\"}},\"type\":\"scatterpolargl\"}],\"scatterpolar\":[{\"marker\":{\"colorbar\":{\"outlinewidth\":0,\"ticks\":\"\"}},\"type\":\"scatterpolar\"}],\"scatter\":[{\"fillpattern\":{\"fillmode\":\"overlay\",\"size\":10,\"solidity\":0.2},\"type\":\"scatter\"}],\"scatterternary\":[{\"marker\":{\"colorbar\":{\"outlinewidth\":0,\"ticks\":\"\"}},\"type\":\"scatterternary\"}],\"surface\":[{\"colorbar\":{\"outlinewidth\":0,\"ticks\":\"\"},\"colorscale\":[[0.0,\"#0d0887\"],[0.1111111111111111,\"#46039f\"],[0.2222222222222222,\"#7201a8\"],[0.3333333333333333,\"#9c179e\"],[0.4444444444444444,\"#bd3786\"],[0.5555555555555556,\"#d8576b\"],[0.6666666666666666,\"#ed7953\"],[0.7777777777777778,\"#fb9f3a\"],[0.8888888888888888,\"#fdca26\"],[1.0,\"#f0f921\"]],\"type\":\"surface\"}],\"table\":[{\"cells\":{\"fill\":{\"color\":\"#EBF0F8\"},\"line\":{\"color\":\"white\"}},\"header\":{\"fill\":{\"color\":\"#C8D4E3\"},\"line\":{\"color\":\"white\"}},\"type\":\"table\"}]},\"layout\":{\"annotationdefaults\":{\"arrowcolor\":\"#2a3f5f\",\"arrowhead\":0,\"arrowwidth\":1},\"autotypenumbers\":\"strict\",\"coloraxis\":{\"colorbar\":{\"outlinewidth\":0,\"ticks\":\"\"}},\"colorscale\":{\"diverging\":[[0,\"#8e0152\"],[0.1,\"#c51b7d\"],[0.2,\"#de77ae\"],[0.3,\"#f1b6da\"],[0.4,\"#fde0ef\"],[0.5,\"#f7f7f7\"],[0.6,\"#e6f5d0\"],[0.7,\"#b8e186\"],[0.8,\"#7fbc41\"],[0.9,\"#4d9221\"],[1,\"#276419\"]],\"sequential\":[[0.0,\"#0d0887\"],[0.1111111111111111,\"#46039f\"],[0.2222222222222222,\"#7201a8\"],[0.3333333333333333,\"#9c179e\"],[0.4444444444444444,\"#bd3786\"],[0.5555555555555556,\"#d8576b\"],[0.6666666666666666,\"#ed7953\"],[0.7777777777777778,\"#fb9f3a\"],[0.8888888888888888,\"#fdca26\"],[1.0,\"#f0f921\"]],\"sequentialminus\":[[0.0,\"#0d0887\"],[0.1111111111111111,\"#46039f\"],[0.2222222222222222,\"#7201a8\"],[0.3333333333333333,\"#9c179e\"],[0.4444444444444444,\"#bd3786\"],[0.5555555555555556,\"#d8576b\"],[0.6666666666666666,\"#ed7953\"],[0.7777777777777778,\"#fb9f3a\"],[0.8888888888888888,\"#fdca26\"],[1.0,\"#f0f921\"]]},\"colorway\":[\"#636efa\",\"#EF553B\",\"#00cc96\",\"#ab63fa\",\"#FFA15A\",\"#19d3f3\",\"#FF6692\",\"#B6E880\",\"#FF97FF\",\"#FECB52\"],\"font\":{\"color\":\"#2a3f5f\"},\"geo\":{\"bgcolor\":\"white\",\"lakecolor\":\"white\",\"landcolor\":\"white\",\"showlakes\":true,\"showland\":true,\"subunitcolor\":\"#C8D4E3\"},\"hoverlabel\":{\"align\":\"left\"},\"hovermode\":\"closest\",\"mapbox\":{\"style\":\"light\"},\"paper_bgcolor\":\"white\",\"plot_bgcolor\":\"white\",\"polar\":{\"angularaxis\":{\"gridcolor\":\"#EBF0F8\",\"linecolor\":\"#EBF0F8\",\"ticks\":\"\"},\"bgcolor\":\"white\",\"radialaxis\":{\"gridcolor\":\"#EBF0F8\",\"linecolor\":\"#EBF0F8\",\"ticks\":\"\"}},\"scene\":{\"xaxis\":{\"backgroundcolor\":\"white\",\"gridcolor\":\"#DFE8F3\",\"gridwidth\":2,\"linecolor\":\"#EBF0F8\",\"showbackground\":true,\"ticks\":\"\",\"zerolinecolor\":\"#EBF0F8\"},\"yaxis\":{\"backgroundcolor\":\"white\",\"gridcolor\":\"#DFE8F3\",\"gridwidth\":2,\"linecolor\":\"#EBF0F8\",\"showbackground\":true,\"ticks\":\"\",\"zerolinecolor\":\"#EBF0F8\"},\"zaxis\":{\"backgroundcolor\":\"white\",\"gridcolor\":\"#DFE8F3\",\"gridwidth\":2,\"linecolor\":\"#EBF0F8\",\"showbackground\":true,\"ticks\":\"\",\"zerolinecolor\":\"#EBF0F8\"}},\"shapedefaults\":{\"line\":{\"color\":\"#2a3f5f\"}},\"ternary\":{\"aaxis\":{\"gridcolor\":\"#DFE8F3\",\"linecolor\":\"#A2B1C6\",\"ticks\":\"\"},\"baxis\":{\"gridcolor\":\"#DFE8F3\",\"linecolor\":\"#A2B1C6\",\"ticks\":\"\"},\"bgcolor\":\"white\",\"caxis\":{\"gridcolor\":\"#DFE8F3\",\"linecolor\":\"#A2B1C6\",\"ticks\":\"\"}},\"title\":{\"x\":0.05},\"xaxis\":{\"automargin\":true,\"gridcolor\":\"#EBF0F8\",\"linecolor\":\"#EBF0F8\",\"ticks\":\"\",\"title\":{\"standoff\":15},\"zerolinecolor\":\"#EBF0F8\",\"zerolinewidth\":2},\"yaxis\":{\"automargin\":true,\"gridcolor\":\"#EBF0F8\",\"linecolor\":\"#EBF0F8\",\"ticks\":\"\",\"title\":{\"standoff\":15},\"zerolinecolor\":\"#EBF0F8\",\"zerolinewidth\":2}}},\"xaxis\":{\"anchor\":\"y\",\"domain\":[0.0,1.0],\"title\":{\"text\":\"Size (number of parameters)\"}},\"yaxis\":{\"anchor\":\"x\",\"domain\":[0.0,1.0],\"title\":{\"text\":\"Time (s)\"}},\"legend\":{\"tracegroupgap\":0},\"margin\":{\"t\":60},\"font\":{\"size\":22}},                        {\"responsive\": true}                    ).then(function(){\n                            \nvar gd = document.getElementById('dd49fa50-0b7c-480d-9d03-5f6b71249a48');\nvar x = new MutationObserver(function (mutations, observer) {{\n        var display = window.getComputedStyle(gd).display;\n        if (!display || display === 'none') {{\n            console.log([gd, 'removed!']);\n            Plotly.purge(gd);\n            observer.disconnect();\n        }}\n}});\n\n// Listen for the removal of the full notebook cells\nvar notebookContainer = gd.closest('#notebook-container');\nif (notebookContainer) {{\n    x.observe(notebookContainer, {childList: true});\n}}\n\n// Listen for the clearing of the current output cell\nvar outputEl = gd.closest('.output');\nif (outputEl) {{\n    x.observe(outputEl, {childList: true});\n}}\n\n                        })                };                });            </script>        </div>"
     },
     "metadata": {},
     "output_type": "display_data"
    }
   ],
   "source": [
    "fig = px.scatter(df_plot, x='Size (number of parameters)', y='Time (s)', template='plotly_white')\n",
    "fig.update_layout(font={'size': 22})\n",
    "fig.update_traces(marker={'size': 12})\n",
    "fig.write_html('time_size.html')\n",
    "fig.show()"
   ],
   "metadata": {
    "collapsed": false,
    "pycharm": {
     "name": "#%%\n"
    }
   }
  },
  {
   "cell_type": "code",
   "execution_count": 23,
   "outputs": [
    {
     "data": {
      "application/vnd.plotly.v1+json": {
       "data": [
        {
         "hovertemplate": "variable=Train<br>Size (number of parameters)=%{x}<br>value=%{y}<extra></extra>",
         "legendgroup": "Train",
         "line": {
          "color": "#636efa",
          "dash": "solid"
         },
         "marker": {
          "symbol": "circle",
          "size": 12
         },
         "mode": "markers+lines",
         "name": "Train",
         "orientation": "v",
         "showlegend": true,
         "x": [
          54313,
          851617,
          2653857,
          8945313,
          35769665
         ],
         "xaxis": "x",
         "y": [
          0.0494921505451202,
          0.0350887738168239,
          0.0423215702176094,
          0.0541995093226432,
          0.0596869774162769
         ],
         "yaxis": "y",
         "type": "scatter"
        },
        {
         "hovertemplate": "variable=Validation<br>Size (number of parameters)=%{x}<br>value=%{y}<extra></extra>",
         "legendgroup": "Validation",
         "line": {
          "color": "#EF553B",
          "dash": "solid"
         },
         "marker": {
          "symbol": "circle",
          "size": 12
         },
         "mode": "markers+lines",
         "name": "Validation",
         "orientation": "v",
         "showlegend": true,
         "x": [
          54313,
          851617,
          2653857,
          8945313,
          35769665
         ],
         "xaxis": "x",
         "y": [
          0.0837525948882103,
          0.0970034077763557,
          0.0626288801431655,
          0.082991786301136,
          0.0671581849455833
         ],
         "yaxis": "y",
         "type": "scatter"
        }
       ],
       "layout": {
        "template": {
         "data": {
          "barpolar": [
           {
            "marker": {
             "line": {
              "color": "white",
              "width": 0.5
             },
             "pattern": {
              "fillmode": "overlay",
              "size": 10,
              "solidity": 0.2
             }
            },
            "type": "barpolar"
           }
          ],
          "bar": [
           {
            "error_x": {
             "color": "#2a3f5f"
            },
            "error_y": {
             "color": "#2a3f5f"
            },
            "marker": {
             "line": {
              "color": "white",
              "width": 0.5
             },
             "pattern": {
              "fillmode": "overlay",
              "size": 10,
              "solidity": 0.2
             }
            },
            "type": "bar"
           }
          ],
          "carpet": [
           {
            "aaxis": {
             "endlinecolor": "#2a3f5f",
             "gridcolor": "#C8D4E3",
             "linecolor": "#C8D4E3",
             "minorgridcolor": "#C8D4E3",
             "startlinecolor": "#2a3f5f"
            },
            "baxis": {
             "endlinecolor": "#2a3f5f",
             "gridcolor": "#C8D4E3",
             "linecolor": "#C8D4E3",
             "minorgridcolor": "#C8D4E3",
             "startlinecolor": "#2a3f5f"
            },
            "type": "carpet"
           }
          ],
          "choropleth": [
           {
            "colorbar": {
             "outlinewidth": 0,
             "ticks": ""
            },
            "type": "choropleth"
           }
          ],
          "contourcarpet": [
           {
            "colorbar": {
             "outlinewidth": 0,
             "ticks": ""
            },
            "type": "contourcarpet"
           }
          ],
          "contour": [
           {
            "colorbar": {
             "outlinewidth": 0,
             "ticks": ""
            },
            "colorscale": [
             [
              0.0,
              "#0d0887"
             ],
             [
              0.1111111111111111,
              "#46039f"
             ],
             [
              0.2222222222222222,
              "#7201a8"
             ],
             [
              0.3333333333333333,
              "#9c179e"
             ],
             [
              0.4444444444444444,
              "#bd3786"
             ],
             [
              0.5555555555555556,
              "#d8576b"
             ],
             [
              0.6666666666666666,
              "#ed7953"
             ],
             [
              0.7777777777777778,
              "#fb9f3a"
             ],
             [
              0.8888888888888888,
              "#fdca26"
             ],
             [
              1.0,
              "#f0f921"
             ]
            ],
            "type": "contour"
           }
          ],
          "heatmapgl": [
           {
            "colorbar": {
             "outlinewidth": 0,
             "ticks": ""
            },
            "colorscale": [
             [
              0.0,
              "#0d0887"
             ],
             [
              0.1111111111111111,
              "#46039f"
             ],
             [
              0.2222222222222222,
              "#7201a8"
             ],
             [
              0.3333333333333333,
              "#9c179e"
             ],
             [
              0.4444444444444444,
              "#bd3786"
             ],
             [
              0.5555555555555556,
              "#d8576b"
             ],
             [
              0.6666666666666666,
              "#ed7953"
             ],
             [
              0.7777777777777778,
              "#fb9f3a"
             ],
             [
              0.8888888888888888,
              "#fdca26"
             ],
             [
              1.0,
              "#f0f921"
             ]
            ],
            "type": "heatmapgl"
           }
          ],
          "heatmap": [
           {
            "colorbar": {
             "outlinewidth": 0,
             "ticks": ""
            },
            "colorscale": [
             [
              0.0,
              "#0d0887"
             ],
             [
              0.1111111111111111,
              "#46039f"
             ],
             [
              0.2222222222222222,
              "#7201a8"
             ],
             [
              0.3333333333333333,
              "#9c179e"
             ],
             [
              0.4444444444444444,
              "#bd3786"
             ],
             [
              0.5555555555555556,
              "#d8576b"
             ],
             [
              0.6666666666666666,
              "#ed7953"
             ],
             [
              0.7777777777777778,
              "#fb9f3a"
             ],
             [
              0.8888888888888888,
              "#fdca26"
             ],
             [
              1.0,
              "#f0f921"
             ]
            ],
            "type": "heatmap"
           }
          ],
          "histogram2dcontour": [
           {
            "colorbar": {
             "outlinewidth": 0,
             "ticks": ""
            },
            "colorscale": [
             [
              0.0,
              "#0d0887"
             ],
             [
              0.1111111111111111,
              "#46039f"
             ],
             [
              0.2222222222222222,
              "#7201a8"
             ],
             [
              0.3333333333333333,
              "#9c179e"
             ],
             [
              0.4444444444444444,
              "#bd3786"
             ],
             [
              0.5555555555555556,
              "#d8576b"
             ],
             [
              0.6666666666666666,
              "#ed7953"
             ],
             [
              0.7777777777777778,
              "#fb9f3a"
             ],
             [
              0.8888888888888888,
              "#fdca26"
             ],
             [
              1.0,
              "#f0f921"
             ]
            ],
            "type": "histogram2dcontour"
           }
          ],
          "histogram2d": [
           {
            "colorbar": {
             "outlinewidth": 0,
             "ticks": ""
            },
            "colorscale": [
             [
              0.0,
              "#0d0887"
             ],
             [
              0.1111111111111111,
              "#46039f"
             ],
             [
              0.2222222222222222,
              "#7201a8"
             ],
             [
              0.3333333333333333,
              "#9c179e"
             ],
             [
              0.4444444444444444,
              "#bd3786"
             ],
             [
              0.5555555555555556,
              "#d8576b"
             ],
             [
              0.6666666666666666,
              "#ed7953"
             ],
             [
              0.7777777777777778,
              "#fb9f3a"
             ],
             [
              0.8888888888888888,
              "#fdca26"
             ],
             [
              1.0,
              "#f0f921"
             ]
            ],
            "type": "histogram2d"
           }
          ],
          "histogram": [
           {
            "marker": {
             "pattern": {
              "fillmode": "overlay",
              "size": 10,
              "solidity": 0.2
             }
            },
            "type": "histogram"
           }
          ],
          "mesh3d": [
           {
            "colorbar": {
             "outlinewidth": 0,
             "ticks": ""
            },
            "type": "mesh3d"
           }
          ],
          "parcoords": [
           {
            "line": {
             "colorbar": {
              "outlinewidth": 0,
              "ticks": ""
             }
            },
            "type": "parcoords"
           }
          ],
          "pie": [
           {
            "automargin": true,
            "type": "pie"
           }
          ],
          "scatter3d": [
           {
            "line": {
             "colorbar": {
              "outlinewidth": 0,
              "ticks": ""
             }
            },
            "marker": {
             "colorbar": {
              "outlinewidth": 0,
              "ticks": ""
             }
            },
            "type": "scatter3d"
           }
          ],
          "scattercarpet": [
           {
            "marker": {
             "colorbar": {
              "outlinewidth": 0,
              "ticks": ""
             }
            },
            "type": "scattercarpet"
           }
          ],
          "scattergeo": [
           {
            "marker": {
             "colorbar": {
              "outlinewidth": 0,
              "ticks": ""
             }
            },
            "type": "scattergeo"
           }
          ],
          "scattergl": [
           {
            "marker": {
             "colorbar": {
              "outlinewidth": 0,
              "ticks": ""
             }
            },
            "type": "scattergl"
           }
          ],
          "scattermapbox": [
           {
            "marker": {
             "colorbar": {
              "outlinewidth": 0,
              "ticks": ""
             }
            },
            "type": "scattermapbox"
           }
          ],
          "scatterpolargl": [
           {
            "marker": {
             "colorbar": {
              "outlinewidth": 0,
              "ticks": ""
             }
            },
            "type": "scatterpolargl"
           }
          ],
          "scatterpolar": [
           {
            "marker": {
             "colorbar": {
              "outlinewidth": 0,
              "ticks": ""
             }
            },
            "type": "scatterpolar"
           }
          ],
          "scatter": [
           {
            "fillpattern": {
             "fillmode": "overlay",
             "size": 10,
             "solidity": 0.2
            },
            "type": "scatter"
           }
          ],
          "scatterternary": [
           {
            "marker": {
             "colorbar": {
              "outlinewidth": 0,
              "ticks": ""
             }
            },
            "type": "scatterternary"
           }
          ],
          "surface": [
           {
            "colorbar": {
             "outlinewidth": 0,
             "ticks": ""
            },
            "colorscale": [
             [
              0.0,
              "#0d0887"
             ],
             [
              0.1111111111111111,
              "#46039f"
             ],
             [
              0.2222222222222222,
              "#7201a8"
             ],
             [
              0.3333333333333333,
              "#9c179e"
             ],
             [
              0.4444444444444444,
              "#bd3786"
             ],
             [
              0.5555555555555556,
              "#d8576b"
             ],
             [
              0.6666666666666666,
              "#ed7953"
             ],
             [
              0.7777777777777778,
              "#fb9f3a"
             ],
             [
              0.8888888888888888,
              "#fdca26"
             ],
             [
              1.0,
              "#f0f921"
             ]
            ],
            "type": "surface"
           }
          ],
          "table": [
           {
            "cells": {
             "fill": {
              "color": "#EBF0F8"
             },
             "line": {
              "color": "white"
             }
            },
            "header": {
             "fill": {
              "color": "#C8D4E3"
             },
             "line": {
              "color": "white"
             }
            },
            "type": "table"
           }
          ]
         },
         "layout": {
          "annotationdefaults": {
           "arrowcolor": "#2a3f5f",
           "arrowhead": 0,
           "arrowwidth": 1
          },
          "autotypenumbers": "strict",
          "coloraxis": {
           "colorbar": {
            "outlinewidth": 0,
            "ticks": ""
           }
          },
          "colorscale": {
           "diverging": [
            [
             0,
             "#8e0152"
            ],
            [
             0.1,
             "#c51b7d"
            ],
            [
             0.2,
             "#de77ae"
            ],
            [
             0.3,
             "#f1b6da"
            ],
            [
             0.4,
             "#fde0ef"
            ],
            [
             0.5,
             "#f7f7f7"
            ],
            [
             0.6,
             "#e6f5d0"
            ],
            [
             0.7,
             "#b8e186"
            ],
            [
             0.8,
             "#7fbc41"
            ],
            [
             0.9,
             "#4d9221"
            ],
            [
             1,
             "#276419"
            ]
           ],
           "sequential": [
            [
             0.0,
             "#0d0887"
            ],
            [
             0.1111111111111111,
             "#46039f"
            ],
            [
             0.2222222222222222,
             "#7201a8"
            ],
            [
             0.3333333333333333,
             "#9c179e"
            ],
            [
             0.4444444444444444,
             "#bd3786"
            ],
            [
             0.5555555555555556,
             "#d8576b"
            ],
            [
             0.6666666666666666,
             "#ed7953"
            ],
            [
             0.7777777777777778,
             "#fb9f3a"
            ],
            [
             0.8888888888888888,
             "#fdca26"
            ],
            [
             1.0,
             "#f0f921"
            ]
           ],
           "sequentialminus": [
            [
             0.0,
             "#0d0887"
            ],
            [
             0.1111111111111111,
             "#46039f"
            ],
            [
             0.2222222222222222,
             "#7201a8"
            ],
            [
             0.3333333333333333,
             "#9c179e"
            ],
            [
             0.4444444444444444,
             "#bd3786"
            ],
            [
             0.5555555555555556,
             "#d8576b"
            ],
            [
             0.6666666666666666,
             "#ed7953"
            ],
            [
             0.7777777777777778,
             "#fb9f3a"
            ],
            [
             0.8888888888888888,
             "#fdca26"
            ],
            [
             1.0,
             "#f0f921"
            ]
           ]
          },
          "colorway": [
           "#636efa",
           "#EF553B",
           "#00cc96",
           "#ab63fa",
           "#FFA15A",
           "#19d3f3",
           "#FF6692",
           "#B6E880",
           "#FF97FF",
           "#FECB52"
          ],
          "font": {
           "color": "#2a3f5f"
          },
          "geo": {
           "bgcolor": "white",
           "lakecolor": "white",
           "landcolor": "white",
           "showlakes": true,
           "showland": true,
           "subunitcolor": "#C8D4E3"
          },
          "hoverlabel": {
           "align": "left"
          },
          "hovermode": "closest",
          "mapbox": {
           "style": "light"
          },
          "paper_bgcolor": "white",
          "plot_bgcolor": "white",
          "polar": {
           "angularaxis": {
            "gridcolor": "#EBF0F8",
            "linecolor": "#EBF0F8",
            "ticks": ""
           },
           "bgcolor": "white",
           "radialaxis": {
            "gridcolor": "#EBF0F8",
            "linecolor": "#EBF0F8",
            "ticks": ""
           }
          },
          "scene": {
           "xaxis": {
            "backgroundcolor": "white",
            "gridcolor": "#DFE8F3",
            "gridwidth": 2,
            "linecolor": "#EBF0F8",
            "showbackground": true,
            "ticks": "",
            "zerolinecolor": "#EBF0F8"
           },
           "yaxis": {
            "backgroundcolor": "white",
            "gridcolor": "#DFE8F3",
            "gridwidth": 2,
            "linecolor": "#EBF0F8",
            "showbackground": true,
            "ticks": "",
            "zerolinecolor": "#EBF0F8"
           },
           "zaxis": {
            "backgroundcolor": "white",
            "gridcolor": "#DFE8F3",
            "gridwidth": 2,
            "linecolor": "#EBF0F8",
            "showbackground": true,
            "ticks": "",
            "zerolinecolor": "#EBF0F8"
           }
          },
          "shapedefaults": {
           "line": {
            "color": "#2a3f5f"
           }
          },
          "ternary": {
           "aaxis": {
            "gridcolor": "#DFE8F3",
            "linecolor": "#A2B1C6",
            "ticks": ""
           },
           "baxis": {
            "gridcolor": "#DFE8F3",
            "linecolor": "#A2B1C6",
            "ticks": ""
           },
           "bgcolor": "white",
           "caxis": {
            "gridcolor": "#DFE8F3",
            "linecolor": "#A2B1C6",
            "ticks": ""
           }
          },
          "title": {
           "x": 0.05
          },
          "xaxis": {
           "automargin": true,
           "gridcolor": "#EBF0F8",
           "linecolor": "#EBF0F8",
           "ticks": "",
           "title": {
            "standoff": 15
           },
           "zerolinecolor": "#EBF0F8",
           "zerolinewidth": 2
          },
          "yaxis": {
           "automargin": true,
           "gridcolor": "#EBF0F8",
           "linecolor": "#EBF0F8",
           "ticks": "",
           "title": {
            "standoff": 15
           },
           "zerolinecolor": "#EBF0F8",
           "zerolinewidth": 2
          }
         }
        },
        "xaxis": {
         "anchor": "y",
         "domain": [
          0.0,
          1.0
         ],
         "title": {
          "text": "Size (number of parameters)"
         }
        },
        "yaxis": {
         "anchor": "x",
         "domain": [
          0.0,
          1.0
         ],
         "title": {
          "text": "MAE (mm)"
         }
        },
        "legend": {
         "title": {
          "text": "variable"
         },
         "tracegroupgap": 0
        },
        "margin": {
         "t": 60
        },
        "font": {
         "size": 22
        }
       },
       "config": {
        "plotlyServerURL": "https://plot.ly"
       }
      },
      "text/html": "<div>                            <div id=\"4afe8b13-fb6c-4b85-a70d-497d18618549\" class=\"plotly-graph-div\" style=\"height:525px; width:100%;\"></div>            <script type=\"text/javascript\">                require([\"plotly\"], function(Plotly) {                    window.PLOTLYENV=window.PLOTLYENV || {};                                    if (document.getElementById(\"4afe8b13-fb6c-4b85-a70d-497d18618549\")) {                    Plotly.newPlot(                        \"4afe8b13-fb6c-4b85-a70d-497d18618549\",                        [{\"hovertemplate\":\"variable=Train<br>Size (number of parameters)=%{x}<br>value=%{y}<extra></extra>\",\"legendgroup\":\"Train\",\"line\":{\"color\":\"#636efa\",\"dash\":\"solid\"},\"marker\":{\"symbol\":\"circle\",\"size\":12},\"mode\":\"markers+lines\",\"name\":\"Train\",\"orientation\":\"v\",\"showlegend\":true,\"x\":[54313,851617,2653857,8945313,35769665],\"xaxis\":\"x\",\"y\":[0.0494921505451202,0.0350887738168239,0.0423215702176094,0.0541995093226432,0.0596869774162769],\"yaxis\":\"y\",\"type\":\"scatter\"},{\"hovertemplate\":\"variable=Validation<br>Size (number of parameters)=%{x}<br>value=%{y}<extra></extra>\",\"legendgroup\":\"Validation\",\"line\":{\"color\":\"#EF553B\",\"dash\":\"solid\"},\"marker\":{\"symbol\":\"circle\",\"size\":12},\"mode\":\"markers+lines\",\"name\":\"Validation\",\"orientation\":\"v\",\"showlegend\":true,\"x\":[54313,851617,2653857,8945313,35769665],\"xaxis\":\"x\",\"y\":[0.0837525948882103,0.0970034077763557,0.0626288801431655,0.082991786301136,0.0671581849455833],\"yaxis\":\"y\",\"type\":\"scatter\"}],                        {\"template\":{\"data\":{\"barpolar\":[{\"marker\":{\"line\":{\"color\":\"white\",\"width\":0.5},\"pattern\":{\"fillmode\":\"overlay\",\"size\":10,\"solidity\":0.2}},\"type\":\"barpolar\"}],\"bar\":[{\"error_x\":{\"color\":\"#2a3f5f\"},\"error_y\":{\"color\":\"#2a3f5f\"},\"marker\":{\"line\":{\"color\":\"white\",\"width\":0.5},\"pattern\":{\"fillmode\":\"overlay\",\"size\":10,\"solidity\":0.2}},\"type\":\"bar\"}],\"carpet\":[{\"aaxis\":{\"endlinecolor\":\"#2a3f5f\",\"gridcolor\":\"#C8D4E3\",\"linecolor\":\"#C8D4E3\",\"minorgridcolor\":\"#C8D4E3\",\"startlinecolor\":\"#2a3f5f\"},\"baxis\":{\"endlinecolor\":\"#2a3f5f\",\"gridcolor\":\"#C8D4E3\",\"linecolor\":\"#C8D4E3\",\"minorgridcolor\":\"#C8D4E3\",\"startlinecolor\":\"#2a3f5f\"},\"type\":\"carpet\"}],\"choropleth\":[{\"colorbar\":{\"outlinewidth\":0,\"ticks\":\"\"},\"type\":\"choropleth\"}],\"contourcarpet\":[{\"colorbar\":{\"outlinewidth\":0,\"ticks\":\"\"},\"type\":\"contourcarpet\"}],\"contour\":[{\"colorbar\":{\"outlinewidth\":0,\"ticks\":\"\"},\"colorscale\":[[0.0,\"#0d0887\"],[0.1111111111111111,\"#46039f\"],[0.2222222222222222,\"#7201a8\"],[0.3333333333333333,\"#9c179e\"],[0.4444444444444444,\"#bd3786\"],[0.5555555555555556,\"#d8576b\"],[0.6666666666666666,\"#ed7953\"],[0.7777777777777778,\"#fb9f3a\"],[0.8888888888888888,\"#fdca26\"],[1.0,\"#f0f921\"]],\"type\":\"contour\"}],\"heatmapgl\":[{\"colorbar\":{\"outlinewidth\":0,\"ticks\":\"\"},\"colorscale\":[[0.0,\"#0d0887\"],[0.1111111111111111,\"#46039f\"],[0.2222222222222222,\"#7201a8\"],[0.3333333333333333,\"#9c179e\"],[0.4444444444444444,\"#bd3786\"],[0.5555555555555556,\"#d8576b\"],[0.6666666666666666,\"#ed7953\"],[0.7777777777777778,\"#fb9f3a\"],[0.8888888888888888,\"#fdca26\"],[1.0,\"#f0f921\"]],\"type\":\"heatmapgl\"}],\"heatmap\":[{\"colorbar\":{\"outlinewidth\":0,\"ticks\":\"\"},\"colorscale\":[[0.0,\"#0d0887\"],[0.1111111111111111,\"#46039f\"],[0.2222222222222222,\"#7201a8\"],[0.3333333333333333,\"#9c179e\"],[0.4444444444444444,\"#bd3786\"],[0.5555555555555556,\"#d8576b\"],[0.6666666666666666,\"#ed7953\"],[0.7777777777777778,\"#fb9f3a\"],[0.8888888888888888,\"#fdca26\"],[1.0,\"#f0f921\"]],\"type\":\"heatmap\"}],\"histogram2dcontour\":[{\"colorbar\":{\"outlinewidth\":0,\"ticks\":\"\"},\"colorscale\":[[0.0,\"#0d0887\"],[0.1111111111111111,\"#46039f\"],[0.2222222222222222,\"#7201a8\"],[0.3333333333333333,\"#9c179e\"],[0.4444444444444444,\"#bd3786\"],[0.5555555555555556,\"#d8576b\"],[0.6666666666666666,\"#ed7953\"],[0.7777777777777778,\"#fb9f3a\"],[0.8888888888888888,\"#fdca26\"],[1.0,\"#f0f921\"]],\"type\":\"histogram2dcontour\"}],\"histogram2d\":[{\"colorbar\":{\"outlinewidth\":0,\"ticks\":\"\"},\"colorscale\":[[0.0,\"#0d0887\"],[0.1111111111111111,\"#46039f\"],[0.2222222222222222,\"#7201a8\"],[0.3333333333333333,\"#9c179e\"],[0.4444444444444444,\"#bd3786\"],[0.5555555555555556,\"#d8576b\"],[0.6666666666666666,\"#ed7953\"],[0.7777777777777778,\"#fb9f3a\"],[0.8888888888888888,\"#fdca26\"],[1.0,\"#f0f921\"]],\"type\":\"histogram2d\"}],\"histogram\":[{\"marker\":{\"pattern\":{\"fillmode\":\"overlay\",\"size\":10,\"solidity\":0.2}},\"type\":\"histogram\"}],\"mesh3d\":[{\"colorbar\":{\"outlinewidth\":0,\"ticks\":\"\"},\"type\":\"mesh3d\"}],\"parcoords\":[{\"line\":{\"colorbar\":{\"outlinewidth\":0,\"ticks\":\"\"}},\"type\":\"parcoords\"}],\"pie\":[{\"automargin\":true,\"type\":\"pie\"}],\"scatter3d\":[{\"line\":{\"colorbar\":{\"outlinewidth\":0,\"ticks\":\"\"}},\"marker\":{\"colorbar\":{\"outlinewidth\":0,\"ticks\":\"\"}},\"type\":\"scatter3d\"}],\"scattercarpet\":[{\"marker\":{\"colorbar\":{\"outlinewidth\":0,\"ticks\":\"\"}},\"type\":\"scattercarpet\"}],\"scattergeo\":[{\"marker\":{\"colorbar\":{\"outlinewidth\":0,\"ticks\":\"\"}},\"type\":\"scattergeo\"}],\"scattergl\":[{\"marker\":{\"colorbar\":{\"outlinewidth\":0,\"ticks\":\"\"}},\"type\":\"scattergl\"}],\"scattermapbox\":[{\"marker\":{\"colorbar\":{\"outlinewidth\":0,\"ticks\":\"\"}},\"type\":\"scattermapbox\"}],\"scatterpolargl\":[{\"marker\":{\"colorbar\":{\"outlinewidth\":0,\"ticks\":\"\"}},\"type\":\"scatterpolargl\"}],\"scatterpolar\":[{\"marker\":{\"colorbar\":{\"outlinewidth\":0,\"ticks\":\"\"}},\"type\":\"scatterpolar\"}],\"scatter\":[{\"fillpattern\":{\"fillmode\":\"overlay\",\"size\":10,\"solidity\":0.2},\"type\":\"scatter\"}],\"scatterternary\":[{\"marker\":{\"colorbar\":{\"outlinewidth\":0,\"ticks\":\"\"}},\"type\":\"scatterternary\"}],\"surface\":[{\"colorbar\":{\"outlinewidth\":0,\"ticks\":\"\"},\"colorscale\":[[0.0,\"#0d0887\"],[0.1111111111111111,\"#46039f\"],[0.2222222222222222,\"#7201a8\"],[0.3333333333333333,\"#9c179e\"],[0.4444444444444444,\"#bd3786\"],[0.5555555555555556,\"#d8576b\"],[0.6666666666666666,\"#ed7953\"],[0.7777777777777778,\"#fb9f3a\"],[0.8888888888888888,\"#fdca26\"],[1.0,\"#f0f921\"]],\"type\":\"surface\"}],\"table\":[{\"cells\":{\"fill\":{\"color\":\"#EBF0F8\"},\"line\":{\"color\":\"white\"}},\"header\":{\"fill\":{\"color\":\"#C8D4E3\"},\"line\":{\"color\":\"white\"}},\"type\":\"table\"}]},\"layout\":{\"annotationdefaults\":{\"arrowcolor\":\"#2a3f5f\",\"arrowhead\":0,\"arrowwidth\":1},\"autotypenumbers\":\"strict\",\"coloraxis\":{\"colorbar\":{\"outlinewidth\":0,\"ticks\":\"\"}},\"colorscale\":{\"diverging\":[[0,\"#8e0152\"],[0.1,\"#c51b7d\"],[0.2,\"#de77ae\"],[0.3,\"#f1b6da\"],[0.4,\"#fde0ef\"],[0.5,\"#f7f7f7\"],[0.6,\"#e6f5d0\"],[0.7,\"#b8e186\"],[0.8,\"#7fbc41\"],[0.9,\"#4d9221\"],[1,\"#276419\"]],\"sequential\":[[0.0,\"#0d0887\"],[0.1111111111111111,\"#46039f\"],[0.2222222222222222,\"#7201a8\"],[0.3333333333333333,\"#9c179e\"],[0.4444444444444444,\"#bd3786\"],[0.5555555555555556,\"#d8576b\"],[0.6666666666666666,\"#ed7953\"],[0.7777777777777778,\"#fb9f3a\"],[0.8888888888888888,\"#fdca26\"],[1.0,\"#f0f921\"]],\"sequentialminus\":[[0.0,\"#0d0887\"],[0.1111111111111111,\"#46039f\"],[0.2222222222222222,\"#7201a8\"],[0.3333333333333333,\"#9c179e\"],[0.4444444444444444,\"#bd3786\"],[0.5555555555555556,\"#d8576b\"],[0.6666666666666666,\"#ed7953\"],[0.7777777777777778,\"#fb9f3a\"],[0.8888888888888888,\"#fdca26\"],[1.0,\"#f0f921\"]]},\"colorway\":[\"#636efa\",\"#EF553B\",\"#00cc96\",\"#ab63fa\",\"#FFA15A\",\"#19d3f3\",\"#FF6692\",\"#B6E880\",\"#FF97FF\",\"#FECB52\"],\"font\":{\"color\":\"#2a3f5f\"},\"geo\":{\"bgcolor\":\"white\",\"lakecolor\":\"white\",\"landcolor\":\"white\",\"showlakes\":true,\"showland\":true,\"subunitcolor\":\"#C8D4E3\"},\"hoverlabel\":{\"align\":\"left\"},\"hovermode\":\"closest\",\"mapbox\":{\"style\":\"light\"},\"paper_bgcolor\":\"white\",\"plot_bgcolor\":\"white\",\"polar\":{\"angularaxis\":{\"gridcolor\":\"#EBF0F8\",\"linecolor\":\"#EBF0F8\",\"ticks\":\"\"},\"bgcolor\":\"white\",\"radialaxis\":{\"gridcolor\":\"#EBF0F8\",\"linecolor\":\"#EBF0F8\",\"ticks\":\"\"}},\"scene\":{\"xaxis\":{\"backgroundcolor\":\"white\",\"gridcolor\":\"#DFE8F3\",\"gridwidth\":2,\"linecolor\":\"#EBF0F8\",\"showbackground\":true,\"ticks\":\"\",\"zerolinecolor\":\"#EBF0F8\"},\"yaxis\":{\"backgroundcolor\":\"white\",\"gridcolor\":\"#DFE8F3\",\"gridwidth\":2,\"linecolor\":\"#EBF0F8\",\"showbackground\":true,\"ticks\":\"\",\"zerolinecolor\":\"#EBF0F8\"},\"zaxis\":{\"backgroundcolor\":\"white\",\"gridcolor\":\"#DFE8F3\",\"gridwidth\":2,\"linecolor\":\"#EBF0F8\",\"showbackground\":true,\"ticks\":\"\",\"zerolinecolor\":\"#EBF0F8\"}},\"shapedefaults\":{\"line\":{\"color\":\"#2a3f5f\"}},\"ternary\":{\"aaxis\":{\"gridcolor\":\"#DFE8F3\",\"linecolor\":\"#A2B1C6\",\"ticks\":\"\"},\"baxis\":{\"gridcolor\":\"#DFE8F3\",\"linecolor\":\"#A2B1C6\",\"ticks\":\"\"},\"bgcolor\":\"white\",\"caxis\":{\"gridcolor\":\"#DFE8F3\",\"linecolor\":\"#A2B1C6\",\"ticks\":\"\"}},\"title\":{\"x\":0.05},\"xaxis\":{\"automargin\":true,\"gridcolor\":\"#EBF0F8\",\"linecolor\":\"#EBF0F8\",\"ticks\":\"\",\"title\":{\"standoff\":15},\"zerolinecolor\":\"#EBF0F8\",\"zerolinewidth\":2},\"yaxis\":{\"automargin\":true,\"gridcolor\":\"#EBF0F8\",\"linecolor\":\"#EBF0F8\",\"ticks\":\"\",\"title\":{\"standoff\":15},\"zerolinecolor\":\"#EBF0F8\",\"zerolinewidth\":2}}},\"xaxis\":{\"anchor\":\"y\",\"domain\":[0.0,1.0],\"title\":{\"text\":\"Size (number of parameters)\"}},\"yaxis\":{\"anchor\":\"x\",\"domain\":[0.0,1.0],\"title\":{\"text\":\"MAE (mm)\"}},\"legend\":{\"title\":{\"text\":\"variable\"},\"tracegroupgap\":0},\"margin\":{\"t\":60},\"font\":{\"size\":22}},                        {\"responsive\": true}                    ).then(function(){\n                            \nvar gd = document.getElementById('4afe8b13-fb6c-4b85-a70d-497d18618549');\nvar x = new MutationObserver(function (mutations, observer) {{\n        var display = window.getComputedStyle(gd).display;\n        if (!display || display === 'none') {{\n            console.log([gd, 'removed!']);\n            Plotly.purge(gd);\n            observer.disconnect();\n        }}\n}});\n\n// Listen for the removal of the full notebook cells\nvar notebookContainer = gd.closest('#notebook-container');\nif (notebookContainer) {{\n    x.observe(notebookContainer, {childList: true});\n}}\n\n// Listen for the clearing of the current output cell\nvar outputEl = gd.closest('.output');\nif (outputEl) {{\n    x.observe(outputEl, {childList: true});\n}}\n\n                        })                };                });            </script>        </div>"
     },
     "metadata": {},
     "output_type": "display_data"
    }
   ],
   "source": [
    "fig = px.line(df_plot.sort_values('Size (number of parameters)'), x='Size (number of parameters)', y=['Train', 'Validation'], markers=True, template='plotly_white')\n",
    "fig.update_yaxes(title='MAE (mm)')\n",
    "fig.update_layout(font={'size': 22})\n",
    "fig.update_traces(marker={'size': 12})\n",
    "fig.write_html('mae_size.html')\n",
    "fig.show()"
   ],
   "metadata": {
    "collapsed": false,
    "pycharm": {
     "name": "#%%\n"
    }
   }
  },
  {
   "cell_type": "code",
   "execution_count": 2,
   "outputs": [],
   "source": [
    "epochs = list(range(1, 501))\n",
    "learning_rates = [0.001] * 100 + [0.0005] * 100 + [0.00025] * 100 + [0.000125] * 100 + [0.0000625] * 50"
   ],
   "metadata": {
    "collapsed": false,
    "pycharm": {
     "name": "#%%\n"
    }
   }
  },
  {
   "cell_type": "code",
   "execution_count": 3,
   "outputs": [],
   "source": [
    "exp_rates = []\n",
    "lr = 0.0000625\n",
    "for _ in range(50):\n",
    "    lr = lr * np.exp(-0.1)\n",
    "    exp_rates.append(lr)"
   ],
   "metadata": {
    "collapsed": false,
    "pycharm": {
     "name": "#%%\n"
    }
   }
  },
  {
   "cell_type": "code",
   "execution_count": 4,
   "outputs": [],
   "source": [
    "learning_rates.extend(exp_rates)"
   ],
   "metadata": {
    "collapsed": false,
    "pycharm": {
     "name": "#%%\n"
    }
   }
  },
  {
   "cell_type": "code",
   "execution_count": 5,
   "outputs": [],
   "source": [
    "df_plot = pd.DataFrame({'Epoch': epochs, 'Learning Rate': learning_rates})"
   ],
   "metadata": {
    "collapsed": false,
    "pycharm": {
     "name": "#%%\n"
    }
   }
  },
  {
   "cell_type": "code",
   "execution_count": 8,
   "outputs": [
    {
     "data": {
      "application/vnd.plotly.v1+json": {
       "data": [
        {
         "hovertemplate": "Epoch=%{x}<br>Learning Rate=%{y}<extra></extra>",
         "legendgroup": "",
         "line": {
          "color": "#636efa",
          "dash": "solid",
          "width": 4
         },
         "marker": {
          "symbol": "circle"
         },
         "mode": "lines",
         "name": "",
         "orientation": "v",
         "showlegend": false,
         "x": [
          1,
          2,
          3,
          4,
          5,
          6,
          7,
          8,
          9,
          10,
          11,
          12,
          13,
          14,
          15,
          16,
          17,
          18,
          19,
          20,
          21,
          22,
          23,
          24,
          25,
          26,
          27,
          28,
          29,
          30,
          31,
          32,
          33,
          34,
          35,
          36,
          37,
          38,
          39,
          40,
          41,
          42,
          43,
          44,
          45,
          46,
          47,
          48,
          49,
          50,
          51,
          52,
          53,
          54,
          55,
          56,
          57,
          58,
          59,
          60,
          61,
          62,
          63,
          64,
          65,
          66,
          67,
          68,
          69,
          70,
          71,
          72,
          73,
          74,
          75,
          76,
          77,
          78,
          79,
          80,
          81,
          82,
          83,
          84,
          85,
          86,
          87,
          88,
          89,
          90,
          91,
          92,
          93,
          94,
          95,
          96,
          97,
          98,
          99,
          100,
          101,
          102,
          103,
          104,
          105,
          106,
          107,
          108,
          109,
          110,
          111,
          112,
          113,
          114,
          115,
          116,
          117,
          118,
          119,
          120,
          121,
          122,
          123,
          124,
          125,
          126,
          127,
          128,
          129,
          130,
          131,
          132,
          133,
          134,
          135,
          136,
          137,
          138,
          139,
          140,
          141,
          142,
          143,
          144,
          145,
          146,
          147,
          148,
          149,
          150,
          151,
          152,
          153,
          154,
          155,
          156,
          157,
          158,
          159,
          160,
          161,
          162,
          163,
          164,
          165,
          166,
          167,
          168,
          169,
          170,
          171,
          172,
          173,
          174,
          175,
          176,
          177,
          178,
          179,
          180,
          181,
          182,
          183,
          184,
          185,
          186,
          187,
          188,
          189,
          190,
          191,
          192,
          193,
          194,
          195,
          196,
          197,
          198,
          199,
          200,
          201,
          202,
          203,
          204,
          205,
          206,
          207,
          208,
          209,
          210,
          211,
          212,
          213,
          214,
          215,
          216,
          217,
          218,
          219,
          220,
          221,
          222,
          223,
          224,
          225,
          226,
          227,
          228,
          229,
          230,
          231,
          232,
          233,
          234,
          235,
          236,
          237,
          238,
          239,
          240,
          241,
          242,
          243,
          244,
          245,
          246,
          247,
          248,
          249,
          250,
          251,
          252,
          253,
          254,
          255,
          256,
          257,
          258,
          259,
          260,
          261,
          262,
          263,
          264,
          265,
          266,
          267,
          268,
          269,
          270,
          271,
          272,
          273,
          274,
          275,
          276,
          277,
          278,
          279,
          280,
          281,
          282,
          283,
          284,
          285,
          286,
          287,
          288,
          289,
          290,
          291,
          292,
          293,
          294,
          295,
          296,
          297,
          298,
          299,
          300,
          301,
          302,
          303,
          304,
          305,
          306,
          307,
          308,
          309,
          310,
          311,
          312,
          313,
          314,
          315,
          316,
          317,
          318,
          319,
          320,
          321,
          322,
          323,
          324,
          325,
          326,
          327,
          328,
          329,
          330,
          331,
          332,
          333,
          334,
          335,
          336,
          337,
          338,
          339,
          340,
          341,
          342,
          343,
          344,
          345,
          346,
          347,
          348,
          349,
          350,
          351,
          352,
          353,
          354,
          355,
          356,
          357,
          358,
          359,
          360,
          361,
          362,
          363,
          364,
          365,
          366,
          367,
          368,
          369,
          370,
          371,
          372,
          373,
          374,
          375,
          376,
          377,
          378,
          379,
          380,
          381,
          382,
          383,
          384,
          385,
          386,
          387,
          388,
          389,
          390,
          391,
          392,
          393,
          394,
          395,
          396,
          397,
          398,
          399,
          400,
          401,
          402,
          403,
          404,
          405,
          406,
          407,
          408,
          409,
          410,
          411,
          412,
          413,
          414,
          415,
          416,
          417,
          418,
          419,
          420,
          421,
          422,
          423,
          424,
          425,
          426,
          427,
          428,
          429,
          430,
          431,
          432,
          433,
          434,
          435,
          436,
          437,
          438,
          439,
          440,
          441,
          442,
          443,
          444,
          445,
          446,
          447,
          448,
          449,
          450,
          451,
          452,
          453,
          454,
          455,
          456,
          457,
          458,
          459,
          460,
          461,
          462,
          463,
          464,
          465,
          466,
          467,
          468,
          469,
          470,
          471,
          472,
          473,
          474,
          475,
          476,
          477,
          478,
          479,
          480,
          481,
          482,
          483,
          484,
          485,
          486,
          487,
          488,
          489,
          490,
          491,
          492,
          493,
          494,
          495,
          496,
          497,
          498,
          499,
          500
         ],
         "xaxis": "x",
         "y": [
          0.001,
          0.001,
          0.001,
          0.001,
          0.001,
          0.001,
          0.001,
          0.001,
          0.001,
          0.001,
          0.001,
          0.001,
          0.001,
          0.001,
          0.001,
          0.001,
          0.001,
          0.001,
          0.001,
          0.001,
          0.001,
          0.001,
          0.001,
          0.001,
          0.001,
          0.001,
          0.001,
          0.001,
          0.001,
          0.001,
          0.001,
          0.001,
          0.001,
          0.001,
          0.001,
          0.001,
          0.001,
          0.001,
          0.001,
          0.001,
          0.001,
          0.001,
          0.001,
          0.001,
          0.001,
          0.001,
          0.001,
          0.001,
          0.001,
          0.001,
          0.001,
          0.001,
          0.001,
          0.001,
          0.001,
          0.001,
          0.001,
          0.001,
          0.001,
          0.001,
          0.001,
          0.001,
          0.001,
          0.001,
          0.001,
          0.001,
          0.001,
          0.001,
          0.001,
          0.001,
          0.001,
          0.001,
          0.001,
          0.001,
          0.001,
          0.001,
          0.001,
          0.001,
          0.001,
          0.001,
          0.001,
          0.001,
          0.001,
          0.001,
          0.001,
          0.001,
          0.001,
          0.001,
          0.001,
          0.001,
          0.001,
          0.001,
          0.001,
          0.001,
          0.001,
          0.001,
          0.001,
          0.001,
          0.001,
          0.001,
          5.0E-4,
          5.0E-4,
          5.0E-4,
          5.0E-4,
          5.0E-4,
          5.0E-4,
          5.0E-4,
          5.0E-4,
          5.0E-4,
          5.0E-4,
          5.0E-4,
          5.0E-4,
          5.0E-4,
          5.0E-4,
          5.0E-4,
          5.0E-4,
          5.0E-4,
          5.0E-4,
          5.0E-4,
          5.0E-4,
          5.0E-4,
          5.0E-4,
          5.0E-4,
          5.0E-4,
          5.0E-4,
          5.0E-4,
          5.0E-4,
          5.0E-4,
          5.0E-4,
          5.0E-4,
          5.0E-4,
          5.0E-4,
          5.0E-4,
          5.0E-4,
          5.0E-4,
          5.0E-4,
          5.0E-4,
          5.0E-4,
          5.0E-4,
          5.0E-4,
          5.0E-4,
          5.0E-4,
          5.0E-4,
          5.0E-4,
          5.0E-4,
          5.0E-4,
          5.0E-4,
          5.0E-4,
          5.0E-4,
          5.0E-4,
          5.0E-4,
          5.0E-4,
          5.0E-4,
          5.0E-4,
          5.0E-4,
          5.0E-4,
          5.0E-4,
          5.0E-4,
          5.0E-4,
          5.0E-4,
          5.0E-4,
          5.0E-4,
          5.0E-4,
          5.0E-4,
          5.0E-4,
          5.0E-4,
          5.0E-4,
          5.0E-4,
          5.0E-4,
          5.0E-4,
          5.0E-4,
          5.0E-4,
          5.0E-4,
          5.0E-4,
          5.0E-4,
          5.0E-4,
          5.0E-4,
          5.0E-4,
          5.0E-4,
          5.0E-4,
          5.0E-4,
          5.0E-4,
          5.0E-4,
          5.0E-4,
          5.0E-4,
          5.0E-4,
          5.0E-4,
          5.0E-4,
          5.0E-4,
          5.0E-4,
          5.0E-4,
          5.0E-4,
          5.0E-4,
          5.0E-4,
          5.0E-4,
          5.0E-4,
          5.0E-4,
          5.0E-4,
          5.0E-4,
          5.0E-4,
          2.5E-4,
          2.5E-4,
          2.5E-4,
          2.5E-4,
          2.5E-4,
          2.5E-4,
          2.5E-4,
          2.5E-4,
          2.5E-4,
          2.5E-4,
          2.5E-4,
          2.5E-4,
          2.5E-4,
          2.5E-4,
          2.5E-4,
          2.5E-4,
          2.5E-4,
          2.5E-4,
          2.5E-4,
          2.5E-4,
          2.5E-4,
          2.5E-4,
          2.5E-4,
          2.5E-4,
          2.5E-4,
          2.5E-4,
          2.5E-4,
          2.5E-4,
          2.5E-4,
          2.5E-4,
          2.5E-4,
          2.5E-4,
          2.5E-4,
          2.5E-4,
          2.5E-4,
          2.5E-4,
          2.5E-4,
          2.5E-4,
          2.5E-4,
          2.5E-4,
          2.5E-4,
          2.5E-4,
          2.5E-4,
          2.5E-4,
          2.5E-4,
          2.5E-4,
          2.5E-4,
          2.5E-4,
          2.5E-4,
          2.5E-4,
          2.5E-4,
          2.5E-4,
          2.5E-4,
          2.5E-4,
          2.5E-4,
          2.5E-4,
          2.5E-4,
          2.5E-4,
          2.5E-4,
          2.5E-4,
          2.5E-4,
          2.5E-4,
          2.5E-4,
          2.5E-4,
          2.5E-4,
          2.5E-4,
          2.5E-4,
          2.5E-4,
          2.5E-4,
          2.5E-4,
          2.5E-4,
          2.5E-4,
          2.5E-4,
          2.5E-4,
          2.5E-4,
          2.5E-4,
          2.5E-4,
          2.5E-4,
          2.5E-4,
          2.5E-4,
          2.5E-4,
          2.5E-4,
          2.5E-4,
          2.5E-4,
          2.5E-4,
          2.5E-4,
          2.5E-4,
          2.5E-4,
          2.5E-4,
          2.5E-4,
          2.5E-4,
          2.5E-4,
          2.5E-4,
          2.5E-4,
          2.5E-4,
          2.5E-4,
          2.5E-4,
          2.5E-4,
          2.5E-4,
          2.5E-4,
          1.25E-4,
          1.25E-4,
          1.25E-4,
          1.25E-4,
          1.25E-4,
          1.25E-4,
          1.25E-4,
          1.25E-4,
          1.25E-4,
          1.25E-4,
          1.25E-4,
          1.25E-4,
          1.25E-4,
          1.25E-4,
          1.25E-4,
          1.25E-4,
          1.25E-4,
          1.25E-4,
          1.25E-4,
          1.25E-4,
          1.25E-4,
          1.25E-4,
          1.25E-4,
          1.25E-4,
          1.25E-4,
          1.25E-4,
          1.25E-4,
          1.25E-4,
          1.25E-4,
          1.25E-4,
          1.25E-4,
          1.25E-4,
          1.25E-4,
          1.25E-4,
          1.25E-4,
          1.25E-4,
          1.25E-4,
          1.25E-4,
          1.25E-4,
          1.25E-4,
          1.25E-4,
          1.25E-4,
          1.25E-4,
          1.25E-4,
          1.25E-4,
          1.25E-4,
          1.25E-4,
          1.25E-4,
          1.25E-4,
          1.25E-4,
          1.25E-4,
          1.25E-4,
          1.25E-4,
          1.25E-4,
          1.25E-4,
          1.25E-4,
          1.25E-4,
          1.25E-4,
          1.25E-4,
          1.25E-4,
          1.25E-4,
          1.25E-4,
          1.25E-4,
          1.25E-4,
          1.25E-4,
          1.25E-4,
          1.25E-4,
          1.25E-4,
          1.25E-4,
          1.25E-4,
          1.25E-4,
          1.25E-4,
          1.25E-4,
          1.25E-4,
          1.25E-4,
          1.25E-4,
          1.25E-4,
          1.25E-4,
          1.25E-4,
          1.25E-4,
          1.25E-4,
          1.25E-4,
          1.25E-4,
          1.25E-4,
          1.25E-4,
          1.25E-4,
          1.25E-4,
          1.25E-4,
          1.25E-4,
          1.25E-4,
          1.25E-4,
          1.25E-4,
          1.25E-4,
          1.25E-4,
          1.25E-4,
          1.25E-4,
          1.25E-4,
          1.25E-4,
          1.25E-4,
          1.25E-4,
          6.25E-5,
          6.25E-5,
          6.25E-5,
          6.25E-5,
          6.25E-5,
          6.25E-5,
          6.25E-5,
          6.25E-5,
          6.25E-5,
          6.25E-5,
          6.25E-5,
          6.25E-5,
          6.25E-5,
          6.25E-5,
          6.25E-5,
          6.25E-5,
          6.25E-5,
          6.25E-5,
          6.25E-5,
          6.25E-5,
          6.25E-5,
          6.25E-5,
          6.25E-5,
          6.25E-5,
          6.25E-5,
          6.25E-5,
          6.25E-5,
          6.25E-5,
          6.25E-5,
          6.25E-5,
          6.25E-5,
          6.25E-5,
          6.25E-5,
          6.25E-5,
          6.25E-5,
          6.25E-5,
          6.25E-5,
          6.25E-5,
          6.25E-5,
          6.25E-5,
          6.25E-5,
          6.25E-5,
          6.25E-5,
          6.25E-5,
          6.25E-5,
          6.25E-5,
          6.25E-5,
          6.25E-5,
          6.25E-5,
          6.25E-5,
          5.655233862724747E-5,
          5.117067206737386E-5,
          4.630113879260736E-5,
          4.1895002877227446E-5,
          3.790816623203958E-5,
          3.430072725587664E-5,
          3.1036581486963085E-5,
          2.808306025732634E-5,
          2.5410603733787432E-5,
          2.2992465073215134E-5,
          2.080444273112996E-5,
          1.882463824451262E-5,
          1.7033237064625777E-5,
          1.5412310246350394E-5,
          1.3945635009276854E-5,
          1.2618532374665953E-5,
          1.1417720253295906E-5,
          1.033118051384915E-5,
          9.348038701414682E-6,
          8.458455202288284E-6,
          7.653526765811361E-6,
          6.92519739764586E-6,
          6.266177732675226E-6,
          5.669872080588275E-6,
          5.130312413993669E-6,
          4.642098638395862E-6,
          4.200344546234355E-6,
          3.800628914076118E-6,
          3.4389512535254473E-6,
          3.1116917729914923E-6,
          2.815575149597359E-6,
          2.547637748647885E-6,
          2.305197962577497E-6,
          2.0858293725203766E-6,
          1.8873364638949032E-6,
          1.707732652955782E-6,
          1.5452204043962091E-6,
          1.3981732410103472E-6,
          1.2651194653627719E-6,
          1.144727430545884E-6,
          1.0357922126100757E-6,
          9.372235512798545E-7,
          8.480349382625563E-7,
          7.673337439417758E-7,
          6.943122836401424E-7,
          6.282397340395973E-7,
          5.684548188559872E-7,
          5.143591905637505E-7,
          4.6541144193277007E-7,
          4.2112168744284056E-7
         ],
         "yaxis": "y",
         "type": "scatter"
        }
       ],
       "layout": {
        "template": {
         "data": {
          "barpolar": [
           {
            "marker": {
             "line": {
              "color": "white",
              "width": 0.5
             },
             "pattern": {
              "fillmode": "overlay",
              "size": 10,
              "solidity": 0.2
             }
            },
            "type": "barpolar"
           }
          ],
          "bar": [
           {
            "error_x": {
             "color": "#2a3f5f"
            },
            "error_y": {
             "color": "#2a3f5f"
            },
            "marker": {
             "line": {
              "color": "white",
              "width": 0.5
             },
             "pattern": {
              "fillmode": "overlay",
              "size": 10,
              "solidity": 0.2
             }
            },
            "type": "bar"
           }
          ],
          "carpet": [
           {
            "aaxis": {
             "endlinecolor": "#2a3f5f",
             "gridcolor": "#C8D4E3",
             "linecolor": "#C8D4E3",
             "minorgridcolor": "#C8D4E3",
             "startlinecolor": "#2a3f5f"
            },
            "baxis": {
             "endlinecolor": "#2a3f5f",
             "gridcolor": "#C8D4E3",
             "linecolor": "#C8D4E3",
             "minorgridcolor": "#C8D4E3",
             "startlinecolor": "#2a3f5f"
            },
            "type": "carpet"
           }
          ],
          "choropleth": [
           {
            "colorbar": {
             "outlinewidth": 0,
             "ticks": ""
            },
            "type": "choropleth"
           }
          ],
          "contourcarpet": [
           {
            "colorbar": {
             "outlinewidth": 0,
             "ticks": ""
            },
            "type": "contourcarpet"
           }
          ],
          "contour": [
           {
            "colorbar": {
             "outlinewidth": 0,
             "ticks": ""
            },
            "colorscale": [
             [
              0.0,
              "#0d0887"
             ],
             [
              0.1111111111111111,
              "#46039f"
             ],
             [
              0.2222222222222222,
              "#7201a8"
             ],
             [
              0.3333333333333333,
              "#9c179e"
             ],
             [
              0.4444444444444444,
              "#bd3786"
             ],
             [
              0.5555555555555556,
              "#d8576b"
             ],
             [
              0.6666666666666666,
              "#ed7953"
             ],
             [
              0.7777777777777778,
              "#fb9f3a"
             ],
             [
              0.8888888888888888,
              "#fdca26"
             ],
             [
              1.0,
              "#f0f921"
             ]
            ],
            "type": "contour"
           }
          ],
          "heatmapgl": [
           {
            "colorbar": {
             "outlinewidth": 0,
             "ticks": ""
            },
            "colorscale": [
             [
              0.0,
              "#0d0887"
             ],
             [
              0.1111111111111111,
              "#46039f"
             ],
             [
              0.2222222222222222,
              "#7201a8"
             ],
             [
              0.3333333333333333,
              "#9c179e"
             ],
             [
              0.4444444444444444,
              "#bd3786"
             ],
             [
              0.5555555555555556,
              "#d8576b"
             ],
             [
              0.6666666666666666,
              "#ed7953"
             ],
             [
              0.7777777777777778,
              "#fb9f3a"
             ],
             [
              0.8888888888888888,
              "#fdca26"
             ],
             [
              1.0,
              "#f0f921"
             ]
            ],
            "type": "heatmapgl"
           }
          ],
          "heatmap": [
           {
            "colorbar": {
             "outlinewidth": 0,
             "ticks": ""
            },
            "colorscale": [
             [
              0.0,
              "#0d0887"
             ],
             [
              0.1111111111111111,
              "#46039f"
             ],
             [
              0.2222222222222222,
              "#7201a8"
             ],
             [
              0.3333333333333333,
              "#9c179e"
             ],
             [
              0.4444444444444444,
              "#bd3786"
             ],
             [
              0.5555555555555556,
              "#d8576b"
             ],
             [
              0.6666666666666666,
              "#ed7953"
             ],
             [
              0.7777777777777778,
              "#fb9f3a"
             ],
             [
              0.8888888888888888,
              "#fdca26"
             ],
             [
              1.0,
              "#f0f921"
             ]
            ],
            "type": "heatmap"
           }
          ],
          "histogram2dcontour": [
           {
            "colorbar": {
             "outlinewidth": 0,
             "ticks": ""
            },
            "colorscale": [
             [
              0.0,
              "#0d0887"
             ],
             [
              0.1111111111111111,
              "#46039f"
             ],
             [
              0.2222222222222222,
              "#7201a8"
             ],
             [
              0.3333333333333333,
              "#9c179e"
             ],
             [
              0.4444444444444444,
              "#bd3786"
             ],
             [
              0.5555555555555556,
              "#d8576b"
             ],
             [
              0.6666666666666666,
              "#ed7953"
             ],
             [
              0.7777777777777778,
              "#fb9f3a"
             ],
             [
              0.8888888888888888,
              "#fdca26"
             ],
             [
              1.0,
              "#f0f921"
             ]
            ],
            "type": "histogram2dcontour"
           }
          ],
          "histogram2d": [
           {
            "colorbar": {
             "outlinewidth": 0,
             "ticks": ""
            },
            "colorscale": [
             [
              0.0,
              "#0d0887"
             ],
             [
              0.1111111111111111,
              "#46039f"
             ],
             [
              0.2222222222222222,
              "#7201a8"
             ],
             [
              0.3333333333333333,
              "#9c179e"
             ],
             [
              0.4444444444444444,
              "#bd3786"
             ],
             [
              0.5555555555555556,
              "#d8576b"
             ],
             [
              0.6666666666666666,
              "#ed7953"
             ],
             [
              0.7777777777777778,
              "#fb9f3a"
             ],
             [
              0.8888888888888888,
              "#fdca26"
             ],
             [
              1.0,
              "#f0f921"
             ]
            ],
            "type": "histogram2d"
           }
          ],
          "histogram": [
           {
            "marker": {
             "pattern": {
              "fillmode": "overlay",
              "size": 10,
              "solidity": 0.2
             }
            },
            "type": "histogram"
           }
          ],
          "mesh3d": [
           {
            "colorbar": {
             "outlinewidth": 0,
             "ticks": ""
            },
            "type": "mesh3d"
           }
          ],
          "parcoords": [
           {
            "line": {
             "colorbar": {
              "outlinewidth": 0,
              "ticks": ""
             }
            },
            "type": "parcoords"
           }
          ],
          "pie": [
           {
            "automargin": true,
            "type": "pie"
           }
          ],
          "scatter3d": [
           {
            "line": {
             "colorbar": {
              "outlinewidth": 0,
              "ticks": ""
             }
            },
            "marker": {
             "colorbar": {
              "outlinewidth": 0,
              "ticks": ""
             }
            },
            "type": "scatter3d"
           }
          ],
          "scattercarpet": [
           {
            "marker": {
             "colorbar": {
              "outlinewidth": 0,
              "ticks": ""
             }
            },
            "type": "scattercarpet"
           }
          ],
          "scattergeo": [
           {
            "marker": {
             "colorbar": {
              "outlinewidth": 0,
              "ticks": ""
             }
            },
            "type": "scattergeo"
           }
          ],
          "scattergl": [
           {
            "marker": {
             "colorbar": {
              "outlinewidth": 0,
              "ticks": ""
             }
            },
            "type": "scattergl"
           }
          ],
          "scattermapbox": [
           {
            "marker": {
             "colorbar": {
              "outlinewidth": 0,
              "ticks": ""
             }
            },
            "type": "scattermapbox"
           }
          ],
          "scatterpolargl": [
           {
            "marker": {
             "colorbar": {
              "outlinewidth": 0,
              "ticks": ""
             }
            },
            "type": "scatterpolargl"
           }
          ],
          "scatterpolar": [
           {
            "marker": {
             "colorbar": {
              "outlinewidth": 0,
              "ticks": ""
             }
            },
            "type": "scatterpolar"
           }
          ],
          "scatter": [
           {
            "fillpattern": {
             "fillmode": "overlay",
             "size": 10,
             "solidity": 0.2
            },
            "type": "scatter"
           }
          ],
          "scatterternary": [
           {
            "marker": {
             "colorbar": {
              "outlinewidth": 0,
              "ticks": ""
             }
            },
            "type": "scatterternary"
           }
          ],
          "surface": [
           {
            "colorbar": {
             "outlinewidth": 0,
             "ticks": ""
            },
            "colorscale": [
             [
              0.0,
              "#0d0887"
             ],
             [
              0.1111111111111111,
              "#46039f"
             ],
             [
              0.2222222222222222,
              "#7201a8"
             ],
             [
              0.3333333333333333,
              "#9c179e"
             ],
             [
              0.4444444444444444,
              "#bd3786"
             ],
             [
              0.5555555555555556,
              "#d8576b"
             ],
             [
              0.6666666666666666,
              "#ed7953"
             ],
             [
              0.7777777777777778,
              "#fb9f3a"
             ],
             [
              0.8888888888888888,
              "#fdca26"
             ],
             [
              1.0,
              "#f0f921"
             ]
            ],
            "type": "surface"
           }
          ],
          "table": [
           {
            "cells": {
             "fill": {
              "color": "#EBF0F8"
             },
             "line": {
              "color": "white"
             }
            },
            "header": {
             "fill": {
              "color": "#C8D4E3"
             },
             "line": {
              "color": "white"
             }
            },
            "type": "table"
           }
          ]
         },
         "layout": {
          "annotationdefaults": {
           "arrowcolor": "#2a3f5f",
           "arrowhead": 0,
           "arrowwidth": 1
          },
          "autotypenumbers": "strict",
          "coloraxis": {
           "colorbar": {
            "outlinewidth": 0,
            "ticks": ""
           }
          },
          "colorscale": {
           "diverging": [
            [
             0,
             "#8e0152"
            ],
            [
             0.1,
             "#c51b7d"
            ],
            [
             0.2,
             "#de77ae"
            ],
            [
             0.3,
             "#f1b6da"
            ],
            [
             0.4,
             "#fde0ef"
            ],
            [
             0.5,
             "#f7f7f7"
            ],
            [
             0.6,
             "#e6f5d0"
            ],
            [
             0.7,
             "#b8e186"
            ],
            [
             0.8,
             "#7fbc41"
            ],
            [
             0.9,
             "#4d9221"
            ],
            [
             1,
             "#276419"
            ]
           ],
           "sequential": [
            [
             0.0,
             "#0d0887"
            ],
            [
             0.1111111111111111,
             "#46039f"
            ],
            [
             0.2222222222222222,
             "#7201a8"
            ],
            [
             0.3333333333333333,
             "#9c179e"
            ],
            [
             0.4444444444444444,
             "#bd3786"
            ],
            [
             0.5555555555555556,
             "#d8576b"
            ],
            [
             0.6666666666666666,
             "#ed7953"
            ],
            [
             0.7777777777777778,
             "#fb9f3a"
            ],
            [
             0.8888888888888888,
             "#fdca26"
            ],
            [
             1.0,
             "#f0f921"
            ]
           ],
           "sequentialminus": [
            [
             0.0,
             "#0d0887"
            ],
            [
             0.1111111111111111,
             "#46039f"
            ],
            [
             0.2222222222222222,
             "#7201a8"
            ],
            [
             0.3333333333333333,
             "#9c179e"
            ],
            [
             0.4444444444444444,
             "#bd3786"
            ],
            [
             0.5555555555555556,
             "#d8576b"
            ],
            [
             0.6666666666666666,
             "#ed7953"
            ],
            [
             0.7777777777777778,
             "#fb9f3a"
            ],
            [
             0.8888888888888888,
             "#fdca26"
            ],
            [
             1.0,
             "#f0f921"
            ]
           ]
          },
          "colorway": [
           "#636efa",
           "#EF553B",
           "#00cc96",
           "#ab63fa",
           "#FFA15A",
           "#19d3f3",
           "#FF6692",
           "#B6E880",
           "#FF97FF",
           "#FECB52"
          ],
          "font": {
           "color": "#2a3f5f"
          },
          "geo": {
           "bgcolor": "white",
           "lakecolor": "white",
           "landcolor": "white",
           "showlakes": true,
           "showland": true,
           "subunitcolor": "#C8D4E3"
          },
          "hoverlabel": {
           "align": "left"
          },
          "hovermode": "closest",
          "mapbox": {
           "style": "light"
          },
          "paper_bgcolor": "white",
          "plot_bgcolor": "white",
          "polar": {
           "angularaxis": {
            "gridcolor": "#EBF0F8",
            "linecolor": "#EBF0F8",
            "ticks": ""
           },
           "bgcolor": "white",
           "radialaxis": {
            "gridcolor": "#EBF0F8",
            "linecolor": "#EBF0F8",
            "ticks": ""
           }
          },
          "scene": {
           "xaxis": {
            "backgroundcolor": "white",
            "gridcolor": "#DFE8F3",
            "gridwidth": 2,
            "linecolor": "#EBF0F8",
            "showbackground": true,
            "ticks": "",
            "zerolinecolor": "#EBF0F8"
           },
           "yaxis": {
            "backgroundcolor": "white",
            "gridcolor": "#DFE8F3",
            "gridwidth": 2,
            "linecolor": "#EBF0F8",
            "showbackground": true,
            "ticks": "",
            "zerolinecolor": "#EBF0F8"
           },
           "zaxis": {
            "backgroundcolor": "white",
            "gridcolor": "#DFE8F3",
            "gridwidth": 2,
            "linecolor": "#EBF0F8",
            "showbackground": true,
            "ticks": "",
            "zerolinecolor": "#EBF0F8"
           }
          },
          "shapedefaults": {
           "line": {
            "color": "#2a3f5f"
           }
          },
          "ternary": {
           "aaxis": {
            "gridcolor": "#DFE8F3",
            "linecolor": "#A2B1C6",
            "ticks": ""
           },
           "baxis": {
            "gridcolor": "#DFE8F3",
            "linecolor": "#A2B1C6",
            "ticks": ""
           },
           "bgcolor": "white",
           "caxis": {
            "gridcolor": "#DFE8F3",
            "linecolor": "#A2B1C6",
            "ticks": ""
           }
          },
          "title": {
           "x": 0.05
          },
          "xaxis": {
           "automargin": true,
           "gridcolor": "#EBF0F8",
           "linecolor": "#EBF0F8",
           "ticks": "",
           "title": {
            "standoff": 15
           },
           "zerolinecolor": "#EBF0F8",
           "zerolinewidth": 2
          },
          "yaxis": {
           "automargin": true,
           "gridcolor": "#EBF0F8",
           "linecolor": "#EBF0F8",
           "ticks": "",
           "title": {
            "standoff": 15
           },
           "zerolinecolor": "#EBF0F8",
           "zerolinewidth": 2
          }
         }
        },
        "xaxis": {
         "anchor": "y",
         "domain": [
          0.0,
          1.0
         ],
         "title": {
          "text": "Epoch"
         }
        },
        "yaxis": {
         "anchor": "x",
         "domain": [
          0.0,
          1.0
         ],
         "title": {
          "text": "Learning Rate"
         }
        },
        "legend": {
         "tracegroupgap": 0
        },
        "margin": {
         "t": 60
        },
        "font": {
         "size": 22
        }
       },
       "config": {
        "plotlyServerURL": "https://plot.ly"
       }
      },
      "text/html": "<div>                            <div id=\"91340693-1bce-4a38-b90d-0a0340212129\" class=\"plotly-graph-div\" style=\"height:525px; width:100%;\"></div>            <script type=\"text/javascript\">                require([\"plotly\"], function(Plotly) {                    window.PLOTLYENV=window.PLOTLYENV || {};                                    if (document.getElementById(\"91340693-1bce-4a38-b90d-0a0340212129\")) {                    Plotly.newPlot(                        \"91340693-1bce-4a38-b90d-0a0340212129\",                        [{\"hovertemplate\":\"Epoch=%{x}<br>Learning Rate=%{y}<extra></extra>\",\"legendgroup\":\"\",\"line\":{\"color\":\"#636efa\",\"dash\":\"solid\",\"width\":4},\"marker\":{\"symbol\":\"circle\"},\"mode\":\"lines\",\"name\":\"\",\"orientation\":\"v\",\"showlegend\":false,\"x\":[1,2,3,4,5,6,7,8,9,10,11,12,13,14,15,16,17,18,19,20,21,22,23,24,25,26,27,28,29,30,31,32,33,34,35,36,37,38,39,40,41,42,43,44,45,46,47,48,49,50,51,52,53,54,55,56,57,58,59,60,61,62,63,64,65,66,67,68,69,70,71,72,73,74,75,76,77,78,79,80,81,82,83,84,85,86,87,88,89,90,91,92,93,94,95,96,97,98,99,100,101,102,103,104,105,106,107,108,109,110,111,112,113,114,115,116,117,118,119,120,121,122,123,124,125,126,127,128,129,130,131,132,133,134,135,136,137,138,139,140,141,142,143,144,145,146,147,148,149,150,151,152,153,154,155,156,157,158,159,160,161,162,163,164,165,166,167,168,169,170,171,172,173,174,175,176,177,178,179,180,181,182,183,184,185,186,187,188,189,190,191,192,193,194,195,196,197,198,199,200,201,202,203,204,205,206,207,208,209,210,211,212,213,214,215,216,217,218,219,220,221,222,223,224,225,226,227,228,229,230,231,232,233,234,235,236,237,238,239,240,241,242,243,244,245,246,247,248,249,250,251,252,253,254,255,256,257,258,259,260,261,262,263,264,265,266,267,268,269,270,271,272,273,274,275,276,277,278,279,280,281,282,283,284,285,286,287,288,289,290,291,292,293,294,295,296,297,298,299,300,301,302,303,304,305,306,307,308,309,310,311,312,313,314,315,316,317,318,319,320,321,322,323,324,325,326,327,328,329,330,331,332,333,334,335,336,337,338,339,340,341,342,343,344,345,346,347,348,349,350,351,352,353,354,355,356,357,358,359,360,361,362,363,364,365,366,367,368,369,370,371,372,373,374,375,376,377,378,379,380,381,382,383,384,385,386,387,388,389,390,391,392,393,394,395,396,397,398,399,400,401,402,403,404,405,406,407,408,409,410,411,412,413,414,415,416,417,418,419,420,421,422,423,424,425,426,427,428,429,430,431,432,433,434,435,436,437,438,439,440,441,442,443,444,445,446,447,448,449,450,451,452,453,454,455,456,457,458,459,460,461,462,463,464,465,466,467,468,469,470,471,472,473,474,475,476,477,478,479,480,481,482,483,484,485,486,487,488,489,490,491,492,493,494,495,496,497,498,499,500],\"xaxis\":\"x\",\"y\":[0.001,0.001,0.001,0.001,0.001,0.001,0.001,0.001,0.001,0.001,0.001,0.001,0.001,0.001,0.001,0.001,0.001,0.001,0.001,0.001,0.001,0.001,0.001,0.001,0.001,0.001,0.001,0.001,0.001,0.001,0.001,0.001,0.001,0.001,0.001,0.001,0.001,0.001,0.001,0.001,0.001,0.001,0.001,0.001,0.001,0.001,0.001,0.001,0.001,0.001,0.001,0.001,0.001,0.001,0.001,0.001,0.001,0.001,0.001,0.001,0.001,0.001,0.001,0.001,0.001,0.001,0.001,0.001,0.001,0.001,0.001,0.001,0.001,0.001,0.001,0.001,0.001,0.001,0.001,0.001,0.001,0.001,0.001,0.001,0.001,0.001,0.001,0.001,0.001,0.001,0.001,0.001,0.001,0.001,0.001,0.001,0.001,0.001,0.001,0.001,0.0005,0.0005,0.0005,0.0005,0.0005,0.0005,0.0005,0.0005,0.0005,0.0005,0.0005,0.0005,0.0005,0.0005,0.0005,0.0005,0.0005,0.0005,0.0005,0.0005,0.0005,0.0005,0.0005,0.0005,0.0005,0.0005,0.0005,0.0005,0.0005,0.0005,0.0005,0.0005,0.0005,0.0005,0.0005,0.0005,0.0005,0.0005,0.0005,0.0005,0.0005,0.0005,0.0005,0.0005,0.0005,0.0005,0.0005,0.0005,0.0005,0.0005,0.0005,0.0005,0.0005,0.0005,0.0005,0.0005,0.0005,0.0005,0.0005,0.0005,0.0005,0.0005,0.0005,0.0005,0.0005,0.0005,0.0005,0.0005,0.0005,0.0005,0.0005,0.0005,0.0005,0.0005,0.0005,0.0005,0.0005,0.0005,0.0005,0.0005,0.0005,0.0005,0.0005,0.0005,0.0005,0.0005,0.0005,0.0005,0.0005,0.0005,0.0005,0.0005,0.0005,0.0005,0.0005,0.0005,0.0005,0.0005,0.0005,0.0005,0.00025,0.00025,0.00025,0.00025,0.00025,0.00025,0.00025,0.00025,0.00025,0.00025,0.00025,0.00025,0.00025,0.00025,0.00025,0.00025,0.00025,0.00025,0.00025,0.00025,0.00025,0.00025,0.00025,0.00025,0.00025,0.00025,0.00025,0.00025,0.00025,0.00025,0.00025,0.00025,0.00025,0.00025,0.00025,0.00025,0.00025,0.00025,0.00025,0.00025,0.00025,0.00025,0.00025,0.00025,0.00025,0.00025,0.00025,0.00025,0.00025,0.00025,0.00025,0.00025,0.00025,0.00025,0.00025,0.00025,0.00025,0.00025,0.00025,0.00025,0.00025,0.00025,0.00025,0.00025,0.00025,0.00025,0.00025,0.00025,0.00025,0.00025,0.00025,0.00025,0.00025,0.00025,0.00025,0.00025,0.00025,0.00025,0.00025,0.00025,0.00025,0.00025,0.00025,0.00025,0.00025,0.00025,0.00025,0.00025,0.00025,0.00025,0.00025,0.00025,0.00025,0.00025,0.00025,0.00025,0.00025,0.00025,0.00025,0.00025,0.000125,0.000125,0.000125,0.000125,0.000125,0.000125,0.000125,0.000125,0.000125,0.000125,0.000125,0.000125,0.000125,0.000125,0.000125,0.000125,0.000125,0.000125,0.000125,0.000125,0.000125,0.000125,0.000125,0.000125,0.000125,0.000125,0.000125,0.000125,0.000125,0.000125,0.000125,0.000125,0.000125,0.000125,0.000125,0.000125,0.000125,0.000125,0.000125,0.000125,0.000125,0.000125,0.000125,0.000125,0.000125,0.000125,0.000125,0.000125,0.000125,0.000125,0.000125,0.000125,0.000125,0.000125,0.000125,0.000125,0.000125,0.000125,0.000125,0.000125,0.000125,0.000125,0.000125,0.000125,0.000125,0.000125,0.000125,0.000125,0.000125,0.000125,0.000125,0.000125,0.000125,0.000125,0.000125,0.000125,0.000125,0.000125,0.000125,0.000125,0.000125,0.000125,0.000125,0.000125,0.000125,0.000125,0.000125,0.000125,0.000125,0.000125,0.000125,0.000125,0.000125,0.000125,0.000125,0.000125,0.000125,0.000125,0.000125,0.000125,6.25e-05,6.25e-05,6.25e-05,6.25e-05,6.25e-05,6.25e-05,6.25e-05,6.25e-05,6.25e-05,6.25e-05,6.25e-05,6.25e-05,6.25e-05,6.25e-05,6.25e-05,6.25e-05,6.25e-05,6.25e-05,6.25e-05,6.25e-05,6.25e-05,6.25e-05,6.25e-05,6.25e-05,6.25e-05,6.25e-05,6.25e-05,6.25e-05,6.25e-05,6.25e-05,6.25e-05,6.25e-05,6.25e-05,6.25e-05,6.25e-05,6.25e-05,6.25e-05,6.25e-05,6.25e-05,6.25e-05,6.25e-05,6.25e-05,6.25e-05,6.25e-05,6.25e-05,6.25e-05,6.25e-05,6.25e-05,6.25e-05,6.25e-05,5.655233862724747e-05,5.117067206737386e-05,4.630113879260736e-05,4.1895002877227446e-05,3.790816623203958e-05,3.430072725587664e-05,3.1036581486963085e-05,2.808306025732634e-05,2.5410603733787432e-05,2.2992465073215134e-05,2.080444273112996e-05,1.882463824451262e-05,1.7033237064625777e-05,1.5412310246350394e-05,1.3945635009276854e-05,1.2618532374665953e-05,1.1417720253295906e-05,1.033118051384915e-05,9.348038701414682e-06,8.458455202288284e-06,7.653526765811361e-06,6.92519739764586e-06,6.266177732675226e-06,5.669872080588275e-06,5.130312413993669e-06,4.642098638395862e-06,4.200344546234355e-06,3.800628914076118e-06,3.4389512535254473e-06,3.1116917729914923e-06,2.815575149597359e-06,2.547637748647885e-06,2.305197962577497e-06,2.0858293725203766e-06,1.8873364638949032e-06,1.707732652955782e-06,1.5452204043962091e-06,1.3981732410103472e-06,1.2651194653627719e-06,1.144727430545884e-06,1.0357922126100757e-06,9.372235512798545e-07,8.480349382625563e-07,7.673337439417758e-07,6.943122836401424e-07,6.282397340395973e-07,5.684548188559872e-07,5.143591905637505e-07,4.6541144193277007e-07,4.2112168744284056e-07],\"yaxis\":\"y\",\"type\":\"scatter\"}],                        {\"template\":{\"data\":{\"barpolar\":[{\"marker\":{\"line\":{\"color\":\"white\",\"width\":0.5},\"pattern\":{\"fillmode\":\"overlay\",\"size\":10,\"solidity\":0.2}},\"type\":\"barpolar\"}],\"bar\":[{\"error_x\":{\"color\":\"#2a3f5f\"},\"error_y\":{\"color\":\"#2a3f5f\"},\"marker\":{\"line\":{\"color\":\"white\",\"width\":0.5},\"pattern\":{\"fillmode\":\"overlay\",\"size\":10,\"solidity\":0.2}},\"type\":\"bar\"}],\"carpet\":[{\"aaxis\":{\"endlinecolor\":\"#2a3f5f\",\"gridcolor\":\"#C8D4E3\",\"linecolor\":\"#C8D4E3\",\"minorgridcolor\":\"#C8D4E3\",\"startlinecolor\":\"#2a3f5f\"},\"baxis\":{\"endlinecolor\":\"#2a3f5f\",\"gridcolor\":\"#C8D4E3\",\"linecolor\":\"#C8D4E3\",\"minorgridcolor\":\"#C8D4E3\",\"startlinecolor\":\"#2a3f5f\"},\"type\":\"carpet\"}],\"choropleth\":[{\"colorbar\":{\"outlinewidth\":0,\"ticks\":\"\"},\"type\":\"choropleth\"}],\"contourcarpet\":[{\"colorbar\":{\"outlinewidth\":0,\"ticks\":\"\"},\"type\":\"contourcarpet\"}],\"contour\":[{\"colorbar\":{\"outlinewidth\":0,\"ticks\":\"\"},\"colorscale\":[[0.0,\"#0d0887\"],[0.1111111111111111,\"#46039f\"],[0.2222222222222222,\"#7201a8\"],[0.3333333333333333,\"#9c179e\"],[0.4444444444444444,\"#bd3786\"],[0.5555555555555556,\"#d8576b\"],[0.6666666666666666,\"#ed7953\"],[0.7777777777777778,\"#fb9f3a\"],[0.8888888888888888,\"#fdca26\"],[1.0,\"#f0f921\"]],\"type\":\"contour\"}],\"heatmapgl\":[{\"colorbar\":{\"outlinewidth\":0,\"ticks\":\"\"},\"colorscale\":[[0.0,\"#0d0887\"],[0.1111111111111111,\"#46039f\"],[0.2222222222222222,\"#7201a8\"],[0.3333333333333333,\"#9c179e\"],[0.4444444444444444,\"#bd3786\"],[0.5555555555555556,\"#d8576b\"],[0.6666666666666666,\"#ed7953\"],[0.7777777777777778,\"#fb9f3a\"],[0.8888888888888888,\"#fdca26\"],[1.0,\"#f0f921\"]],\"type\":\"heatmapgl\"}],\"heatmap\":[{\"colorbar\":{\"outlinewidth\":0,\"ticks\":\"\"},\"colorscale\":[[0.0,\"#0d0887\"],[0.1111111111111111,\"#46039f\"],[0.2222222222222222,\"#7201a8\"],[0.3333333333333333,\"#9c179e\"],[0.4444444444444444,\"#bd3786\"],[0.5555555555555556,\"#d8576b\"],[0.6666666666666666,\"#ed7953\"],[0.7777777777777778,\"#fb9f3a\"],[0.8888888888888888,\"#fdca26\"],[1.0,\"#f0f921\"]],\"type\":\"heatmap\"}],\"histogram2dcontour\":[{\"colorbar\":{\"outlinewidth\":0,\"ticks\":\"\"},\"colorscale\":[[0.0,\"#0d0887\"],[0.1111111111111111,\"#46039f\"],[0.2222222222222222,\"#7201a8\"],[0.3333333333333333,\"#9c179e\"],[0.4444444444444444,\"#bd3786\"],[0.5555555555555556,\"#d8576b\"],[0.6666666666666666,\"#ed7953\"],[0.7777777777777778,\"#fb9f3a\"],[0.8888888888888888,\"#fdca26\"],[1.0,\"#f0f921\"]],\"type\":\"histogram2dcontour\"}],\"histogram2d\":[{\"colorbar\":{\"outlinewidth\":0,\"ticks\":\"\"},\"colorscale\":[[0.0,\"#0d0887\"],[0.1111111111111111,\"#46039f\"],[0.2222222222222222,\"#7201a8\"],[0.3333333333333333,\"#9c179e\"],[0.4444444444444444,\"#bd3786\"],[0.5555555555555556,\"#d8576b\"],[0.6666666666666666,\"#ed7953\"],[0.7777777777777778,\"#fb9f3a\"],[0.8888888888888888,\"#fdca26\"],[1.0,\"#f0f921\"]],\"type\":\"histogram2d\"}],\"histogram\":[{\"marker\":{\"pattern\":{\"fillmode\":\"overlay\",\"size\":10,\"solidity\":0.2}},\"type\":\"histogram\"}],\"mesh3d\":[{\"colorbar\":{\"outlinewidth\":0,\"ticks\":\"\"},\"type\":\"mesh3d\"}],\"parcoords\":[{\"line\":{\"colorbar\":{\"outlinewidth\":0,\"ticks\":\"\"}},\"type\":\"parcoords\"}],\"pie\":[{\"automargin\":true,\"type\":\"pie\"}],\"scatter3d\":[{\"line\":{\"colorbar\":{\"outlinewidth\":0,\"ticks\":\"\"}},\"marker\":{\"colorbar\":{\"outlinewidth\":0,\"ticks\":\"\"}},\"type\":\"scatter3d\"}],\"scattercarpet\":[{\"marker\":{\"colorbar\":{\"outlinewidth\":0,\"ticks\":\"\"}},\"type\":\"scattercarpet\"}],\"scattergeo\":[{\"marker\":{\"colorbar\":{\"outlinewidth\":0,\"ticks\":\"\"}},\"type\":\"scattergeo\"}],\"scattergl\":[{\"marker\":{\"colorbar\":{\"outlinewidth\":0,\"ticks\":\"\"}},\"type\":\"scattergl\"}],\"scattermapbox\":[{\"marker\":{\"colorbar\":{\"outlinewidth\":0,\"ticks\":\"\"}},\"type\":\"scattermapbox\"}],\"scatterpolargl\":[{\"marker\":{\"colorbar\":{\"outlinewidth\":0,\"ticks\":\"\"}},\"type\":\"scatterpolargl\"}],\"scatterpolar\":[{\"marker\":{\"colorbar\":{\"outlinewidth\":0,\"ticks\":\"\"}},\"type\":\"scatterpolar\"}],\"scatter\":[{\"fillpattern\":{\"fillmode\":\"overlay\",\"size\":10,\"solidity\":0.2},\"type\":\"scatter\"}],\"scatterternary\":[{\"marker\":{\"colorbar\":{\"outlinewidth\":0,\"ticks\":\"\"}},\"type\":\"scatterternary\"}],\"surface\":[{\"colorbar\":{\"outlinewidth\":0,\"ticks\":\"\"},\"colorscale\":[[0.0,\"#0d0887\"],[0.1111111111111111,\"#46039f\"],[0.2222222222222222,\"#7201a8\"],[0.3333333333333333,\"#9c179e\"],[0.4444444444444444,\"#bd3786\"],[0.5555555555555556,\"#d8576b\"],[0.6666666666666666,\"#ed7953\"],[0.7777777777777778,\"#fb9f3a\"],[0.8888888888888888,\"#fdca26\"],[1.0,\"#f0f921\"]],\"type\":\"surface\"}],\"table\":[{\"cells\":{\"fill\":{\"color\":\"#EBF0F8\"},\"line\":{\"color\":\"white\"}},\"header\":{\"fill\":{\"color\":\"#C8D4E3\"},\"line\":{\"color\":\"white\"}},\"type\":\"table\"}]},\"layout\":{\"annotationdefaults\":{\"arrowcolor\":\"#2a3f5f\",\"arrowhead\":0,\"arrowwidth\":1},\"autotypenumbers\":\"strict\",\"coloraxis\":{\"colorbar\":{\"outlinewidth\":0,\"ticks\":\"\"}},\"colorscale\":{\"diverging\":[[0,\"#8e0152\"],[0.1,\"#c51b7d\"],[0.2,\"#de77ae\"],[0.3,\"#f1b6da\"],[0.4,\"#fde0ef\"],[0.5,\"#f7f7f7\"],[0.6,\"#e6f5d0\"],[0.7,\"#b8e186\"],[0.8,\"#7fbc41\"],[0.9,\"#4d9221\"],[1,\"#276419\"]],\"sequential\":[[0.0,\"#0d0887\"],[0.1111111111111111,\"#46039f\"],[0.2222222222222222,\"#7201a8\"],[0.3333333333333333,\"#9c179e\"],[0.4444444444444444,\"#bd3786\"],[0.5555555555555556,\"#d8576b\"],[0.6666666666666666,\"#ed7953\"],[0.7777777777777778,\"#fb9f3a\"],[0.8888888888888888,\"#fdca26\"],[1.0,\"#f0f921\"]],\"sequentialminus\":[[0.0,\"#0d0887\"],[0.1111111111111111,\"#46039f\"],[0.2222222222222222,\"#7201a8\"],[0.3333333333333333,\"#9c179e\"],[0.4444444444444444,\"#bd3786\"],[0.5555555555555556,\"#d8576b\"],[0.6666666666666666,\"#ed7953\"],[0.7777777777777778,\"#fb9f3a\"],[0.8888888888888888,\"#fdca26\"],[1.0,\"#f0f921\"]]},\"colorway\":[\"#636efa\",\"#EF553B\",\"#00cc96\",\"#ab63fa\",\"#FFA15A\",\"#19d3f3\",\"#FF6692\",\"#B6E880\",\"#FF97FF\",\"#FECB52\"],\"font\":{\"color\":\"#2a3f5f\"},\"geo\":{\"bgcolor\":\"white\",\"lakecolor\":\"white\",\"landcolor\":\"white\",\"showlakes\":true,\"showland\":true,\"subunitcolor\":\"#C8D4E3\"},\"hoverlabel\":{\"align\":\"left\"},\"hovermode\":\"closest\",\"mapbox\":{\"style\":\"light\"},\"paper_bgcolor\":\"white\",\"plot_bgcolor\":\"white\",\"polar\":{\"angularaxis\":{\"gridcolor\":\"#EBF0F8\",\"linecolor\":\"#EBF0F8\",\"ticks\":\"\"},\"bgcolor\":\"white\",\"radialaxis\":{\"gridcolor\":\"#EBF0F8\",\"linecolor\":\"#EBF0F8\",\"ticks\":\"\"}},\"scene\":{\"xaxis\":{\"backgroundcolor\":\"white\",\"gridcolor\":\"#DFE8F3\",\"gridwidth\":2,\"linecolor\":\"#EBF0F8\",\"showbackground\":true,\"ticks\":\"\",\"zerolinecolor\":\"#EBF0F8\"},\"yaxis\":{\"backgroundcolor\":\"white\",\"gridcolor\":\"#DFE8F3\",\"gridwidth\":2,\"linecolor\":\"#EBF0F8\",\"showbackground\":true,\"ticks\":\"\",\"zerolinecolor\":\"#EBF0F8\"},\"zaxis\":{\"backgroundcolor\":\"white\",\"gridcolor\":\"#DFE8F3\",\"gridwidth\":2,\"linecolor\":\"#EBF0F8\",\"showbackground\":true,\"ticks\":\"\",\"zerolinecolor\":\"#EBF0F8\"}},\"shapedefaults\":{\"line\":{\"color\":\"#2a3f5f\"}},\"ternary\":{\"aaxis\":{\"gridcolor\":\"#DFE8F3\",\"linecolor\":\"#A2B1C6\",\"ticks\":\"\"},\"baxis\":{\"gridcolor\":\"#DFE8F3\",\"linecolor\":\"#A2B1C6\",\"ticks\":\"\"},\"bgcolor\":\"white\",\"caxis\":{\"gridcolor\":\"#DFE8F3\",\"linecolor\":\"#A2B1C6\",\"ticks\":\"\"}},\"title\":{\"x\":0.05},\"xaxis\":{\"automargin\":true,\"gridcolor\":\"#EBF0F8\",\"linecolor\":\"#EBF0F8\",\"ticks\":\"\",\"title\":{\"standoff\":15},\"zerolinecolor\":\"#EBF0F8\",\"zerolinewidth\":2},\"yaxis\":{\"automargin\":true,\"gridcolor\":\"#EBF0F8\",\"linecolor\":\"#EBF0F8\",\"ticks\":\"\",\"title\":{\"standoff\":15},\"zerolinecolor\":\"#EBF0F8\",\"zerolinewidth\":2}}},\"xaxis\":{\"anchor\":\"y\",\"domain\":[0.0,1.0],\"title\":{\"text\":\"Epoch\"}},\"yaxis\":{\"anchor\":\"x\",\"domain\":[0.0,1.0],\"title\":{\"text\":\"Learning Rate\"}},\"legend\":{\"tracegroupgap\":0},\"margin\":{\"t\":60},\"font\":{\"size\":22}},                        {\"responsive\": true}                    ).then(function(){\n                            \nvar gd = document.getElementById('91340693-1bce-4a38-b90d-0a0340212129');\nvar x = new MutationObserver(function (mutations, observer) {{\n        var display = window.getComputedStyle(gd).display;\n        if (!display || display === 'none') {{\n            console.log([gd, 'removed!']);\n            Plotly.purge(gd);\n            observer.disconnect();\n        }}\n}});\n\n// Listen for the removal of the full notebook cells\nvar notebookContainer = gd.closest('#notebook-container');\nif (notebookContainer) {{\n    x.observe(notebookContainer, {childList: true});\n}}\n\n// Listen for the clearing of the current output cell\nvar outputEl = gd.closest('.output');\nif (outputEl) {{\n    x.observe(outputEl, {childList: true});\n}}\n\n                        })                };                });            </script>        </div>"
     },
     "metadata": {},
     "output_type": "display_data"
    }
   ],
   "source": [
    "fig = px.line(df_plot, x='Epoch', y='Learning Rate', template='plotly_white')\n",
    "# fig.update_yaxes(showgrid=False).update_xaxes(showgrid=False)\n",
    "fig.update_layout(font={'size': 22})\n",
    "fig.update_traces(line={'width': 4})\n",
    "fig.write_html('learning_rate.html')\n",
    "fig.show()"
   ],
   "metadata": {
    "collapsed": false,
    "pycharm": {
     "name": "#%%\n"
    }
   }
  },
  {
   "cell_type": "code",
   "execution_count": null,
   "outputs": [],
   "source": [],
   "metadata": {
    "collapsed": false,
    "pycharm": {
     "name": "#%%\n"
    }
   }
  }
 ],
 "metadata": {
  "kernelspec": {
   "display_name": "Python 3",
   "language": "python",
   "name": "python3"
  },
  "language_info": {
   "codemirror_mode": {
    "name": "ipython",
    "version": 2
   },
   "file_extension": ".py",
   "mimetype": "text/x-python",
   "name": "python",
   "nbconvert_exporter": "python",
   "pygments_lexer": "ipython2",
   "version": "2.7.6"
  }
 },
 "nbformat": 4,
 "nbformat_minor": 0
}